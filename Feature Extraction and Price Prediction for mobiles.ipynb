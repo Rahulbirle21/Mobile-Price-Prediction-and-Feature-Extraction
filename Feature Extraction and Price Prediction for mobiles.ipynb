{
 "cells": [
  {
   "cell_type": "code",
   "execution_count": 1,
   "id": "cb057126",
   "metadata": {},
   "outputs": [],
   "source": [
    "import pandas as pd\n",
    "import numpy as np\n",
    "import matplotlib.pyplot as plt\n",
    "import seaborn as sns"
   ]
  },
  {
   "cell_type": "markdown",
   "id": "b3301940",
   "metadata": {},
   "source": [
    "# Data Acquistion and Wrangling"
   ]
  },
  {
   "cell_type": "code",
   "execution_count": 2,
   "id": "6a2ba446",
   "metadata": {},
   "outputs": [],
   "source": [
    "df = pd.read_csv(r\"C:\\Users\\birle\\Downloads\\Processed_Flipdata - Processed_Flipdata.csv\")"
   ]
  },
  {
   "cell_type": "code",
   "execution_count": 3,
   "id": "afef0ab8",
   "metadata": {},
   "outputs": [
    {
     "data": {
      "text/html": [
       "<div>\n",
       "<style scoped>\n",
       "    .dataframe tbody tr th:only-of-type {\n",
       "        vertical-align: middle;\n",
       "    }\n",
       "\n",
       "    .dataframe tbody tr th {\n",
       "        vertical-align: top;\n",
       "    }\n",
       "\n",
       "    .dataframe thead th {\n",
       "        text-align: right;\n",
       "    }\n",
       "</style>\n",
       "<table border=\"1\" class=\"dataframe\">\n",
       "  <thead>\n",
       "    <tr style=\"text-align: right;\">\n",
       "      <th></th>\n",
       "      <th>Unnamed: 0</th>\n",
       "      <th>Model</th>\n",
       "      <th>Colour</th>\n",
       "      <th>Memory</th>\n",
       "      <th>RAM</th>\n",
       "      <th>Battery_</th>\n",
       "      <th>Rear Camera</th>\n",
       "      <th>Front Camera</th>\n",
       "      <th>AI Lens</th>\n",
       "      <th>Mobile Height</th>\n",
       "      <th>Processor_</th>\n",
       "      <th>Prize</th>\n",
       "    </tr>\n",
       "  </thead>\n",
       "  <tbody>\n",
       "    <tr>\n",
       "      <th>0</th>\n",
       "      <td>0</td>\n",
       "      <td>Infinix SMART 7</td>\n",
       "      <td>Night Black</td>\n",
       "      <td>64</td>\n",
       "      <td>4</td>\n",
       "      <td>6000</td>\n",
       "      <td>13MP</td>\n",
       "      <td>5MP</td>\n",
       "      <td>1</td>\n",
       "      <td>16.76</td>\n",
       "      <td>Unisoc Spreadtrum SC9863A1</td>\n",
       "      <td>7,299</td>\n",
       "    </tr>\n",
       "    <tr>\n",
       "      <th>1</th>\n",
       "      <td>1</td>\n",
       "      <td>Infinix SMART 7</td>\n",
       "      <td>Azure Blue</td>\n",
       "      <td>64</td>\n",
       "      <td>4</td>\n",
       "      <td>6000</td>\n",
       "      <td>13MP</td>\n",
       "      <td>5MP</td>\n",
       "      <td>1</td>\n",
       "      <td>16.76</td>\n",
       "      <td>Unisoc Spreadtrum SC9863A1</td>\n",
       "      <td>7,299</td>\n",
       "    </tr>\n",
       "    <tr>\n",
       "      <th>2</th>\n",
       "      <td>2</td>\n",
       "      <td>MOTOROLA G32</td>\n",
       "      <td>Mineral Gray</td>\n",
       "      <td>128</td>\n",
       "      <td>8</td>\n",
       "      <td>5000</td>\n",
       "      <td>50MP</td>\n",
       "      <td>16MP</td>\n",
       "      <td>0</td>\n",
       "      <td>16.64</td>\n",
       "      <td>Qualcomm Snapdragon 680</td>\n",
       "      <td>11,999</td>\n",
       "    </tr>\n",
       "    <tr>\n",
       "      <th>3</th>\n",
       "      <td>3</td>\n",
       "      <td>POCO C50</td>\n",
       "      <td>Royal Blue</td>\n",
       "      <td>32</td>\n",
       "      <td>2</td>\n",
       "      <td>5000</td>\n",
       "      <td>8MP</td>\n",
       "      <td>5MP</td>\n",
       "      <td>0</td>\n",
       "      <td>16.56</td>\n",
       "      <td>Mediatek Helio A22</td>\n",
       "      <td>5,649</td>\n",
       "    </tr>\n",
       "    <tr>\n",
       "      <th>4</th>\n",
       "      <td>4</td>\n",
       "      <td>Infinix HOT 30i</td>\n",
       "      <td>Marigold</td>\n",
       "      <td>128</td>\n",
       "      <td>8</td>\n",
       "      <td>5000</td>\n",
       "      <td>50MP</td>\n",
       "      <td>5MP</td>\n",
       "      <td>1</td>\n",
       "      <td>16.76</td>\n",
       "      <td>G37</td>\n",
       "      <td>8,999</td>\n",
       "    </tr>\n",
       "    <tr>\n",
       "      <th>...</th>\n",
       "      <td>...</td>\n",
       "      <td>...</td>\n",
       "      <td>...</td>\n",
       "      <td>...</td>\n",
       "      <td>...</td>\n",
       "      <td>...</td>\n",
       "      <td>...</td>\n",
       "      <td>...</td>\n",
       "      <td>...</td>\n",
       "      <td>...</td>\n",
       "      <td>...</td>\n",
       "      <td>...</td>\n",
       "    </tr>\n",
       "    <tr>\n",
       "      <th>536</th>\n",
       "      <td>637</td>\n",
       "      <td>SAMSUNG Galaxy S23 5G</td>\n",
       "      <td>Cream</td>\n",
       "      <td>256</td>\n",
       "      <td>8</td>\n",
       "      <td>3900</td>\n",
       "      <td>50MP</td>\n",
       "      <td>12MP</td>\n",
       "      <td>0</td>\n",
       "      <td>15.49</td>\n",
       "      <td>Qualcomm Snapdragon 8 Gen 2</td>\n",
       "      <td>79,999</td>\n",
       "    </tr>\n",
       "    <tr>\n",
       "      <th>537</th>\n",
       "      <td>638</td>\n",
       "      <td>LAVA Z21</td>\n",
       "      <td>Cyan</td>\n",
       "      <td>32</td>\n",
       "      <td>2</td>\n",
       "      <td>3100</td>\n",
       "      <td>5MP</td>\n",
       "      <td>2MP</td>\n",
       "      <td>0</td>\n",
       "      <td>12.70</td>\n",
       "      <td>Octa Core</td>\n",
       "      <td>5,998</td>\n",
       "    </tr>\n",
       "    <tr>\n",
       "      <th>538</th>\n",
       "      <td>639</td>\n",
       "      <td>Tecno Spark 8T</td>\n",
       "      <td>Turquoise Cyan</td>\n",
       "      <td>64</td>\n",
       "      <td>4</td>\n",
       "      <td>5000</td>\n",
       "      <td>50MP</td>\n",
       "      <td>8MP</td>\n",
       "      <td>0</td>\n",
       "      <td>16.76</td>\n",
       "      <td>MediaTek Helio G35</td>\n",
       "      <td>9,990</td>\n",
       "    </tr>\n",
       "    <tr>\n",
       "      <th>539</th>\n",
       "      <td>641</td>\n",
       "      <td>SAMSUNG Galaxy A54 5G</td>\n",
       "      <td>Awesome Lime</td>\n",
       "      <td>128</td>\n",
       "      <td>8</td>\n",
       "      <td>5000</td>\n",
       "      <td>50MP</td>\n",
       "      <td>32MP</td>\n",
       "      <td>0</td>\n",
       "      <td>16.26</td>\n",
       "      <td>Exynos 1380, Octa Core</td>\n",
       "      <td>38,999</td>\n",
       "    </tr>\n",
       "    <tr>\n",
       "      <th>540</th>\n",
       "      <td>642</td>\n",
       "      <td>OPPO A77</td>\n",
       "      <td>Sky Blue</td>\n",
       "      <td>128</td>\n",
       "      <td>4</td>\n",
       "      <td>5000</td>\n",
       "      <td>50MP</td>\n",
       "      <td>8MP</td>\n",
       "      <td>0</td>\n",
       "      <td>16.66</td>\n",
       "      <td>Mediatek Helio G35</td>\n",
       "      <td>15,999</td>\n",
       "    </tr>\n",
       "  </tbody>\n",
       "</table>\n",
       "<p>541 rows × 12 columns</p>\n",
       "</div>"
      ],
      "text/plain": [
       "     Unnamed: 0                  Model          Colour  Memory  RAM  Battery_  \\\n",
       "0             0        Infinix SMART 7     Night Black      64    4      6000   \n",
       "1             1        Infinix SMART 7      Azure Blue      64    4      6000   \n",
       "2             2           MOTOROLA G32    Mineral Gray     128    8      5000   \n",
       "3             3               POCO C50      Royal Blue      32    2      5000   \n",
       "4             4        Infinix HOT 30i        Marigold     128    8      5000   \n",
       "..          ...                    ...             ...     ...  ...       ...   \n",
       "536         637  SAMSUNG Galaxy S23 5G           Cream     256    8      3900   \n",
       "537         638               LAVA Z21            Cyan      32    2      3100   \n",
       "538         639         Tecno Spark 8T  Turquoise Cyan      64    4      5000   \n",
       "539         641  SAMSUNG Galaxy A54 5G    Awesome Lime     128    8      5000   \n",
       "540         642               OPPO A77        Sky Blue     128    4      5000   \n",
       "\n",
       "    Rear Camera Front Camera  AI Lens  Mobile Height  \\\n",
       "0          13MP          5MP        1          16.76   \n",
       "1          13MP          5MP        1          16.76   \n",
       "2          50MP         16MP        0          16.64   \n",
       "3           8MP          5MP        0          16.56   \n",
       "4          50MP          5MP        1          16.76   \n",
       "..          ...          ...      ...            ...   \n",
       "536        50MP         12MP        0          15.49   \n",
       "537         5MP          2MP        0          12.70   \n",
       "538        50MP          8MP        0          16.76   \n",
       "539        50MP         32MP        0          16.26   \n",
       "540        50MP          8MP        0          16.66   \n",
       "\n",
       "                      Processor_   Prize  \n",
       "0     Unisoc Spreadtrum SC9863A1   7,299  \n",
       "1     Unisoc Spreadtrum SC9863A1   7,299  \n",
       "2        Qualcomm Snapdragon 680  11,999  \n",
       "3             Mediatek Helio A22   5,649  \n",
       "4                            G37   8,999  \n",
       "..                           ...     ...  \n",
       "536  Qualcomm Snapdragon 8 Gen 2  79,999  \n",
       "537                    Octa Core   5,998  \n",
       "538           MediaTek Helio G35   9,990  \n",
       "539      Exynos 1380, Octa Core   38,999  \n",
       "540           Mediatek Helio G35  15,999  \n",
       "\n",
       "[541 rows x 12 columns]"
      ]
     },
     "execution_count": 3,
     "metadata": {},
     "output_type": "execute_result"
    }
   ],
   "source": [
    "df"
   ]
  },
  {
   "cell_type": "code",
   "execution_count": 5,
   "id": "6f7baa91",
   "metadata": {},
   "outputs": [
    {
     "name": "stdout",
     "output_type": "stream",
     "text": [
      "<class 'pandas.core.frame.DataFrame'>\n",
      "RangeIndex: 541 entries, 0 to 540\n",
      "Data columns (total 12 columns):\n",
      " #   Column         Non-Null Count  Dtype  \n",
      "---  ------         --------------  -----  \n",
      " 0   Unnamed: 0     541 non-null    int64  \n",
      " 1   Model          541 non-null    object \n",
      " 2   Colour         541 non-null    object \n",
      " 3   Memory         541 non-null    int64  \n",
      " 4   RAM            541 non-null    int64  \n",
      " 5   Battery_       541 non-null    int64  \n",
      " 6   Rear Camera    541 non-null    object \n",
      " 7   Front Camera   541 non-null    object \n",
      " 8   AI Lens        541 non-null    int64  \n",
      " 9   Mobile Height  541 non-null    float64\n",
      " 10  Processor_     541 non-null    object \n",
      " 11  Prize          541 non-null    object \n",
      "dtypes: float64(1), int64(5), object(6)\n",
      "memory usage: 50.8+ KB\n"
     ]
    }
   ],
   "source": [
    "df.info()"
   ]
  },
  {
   "cell_type": "code",
   "execution_count": 6,
   "id": "472e26cb",
   "metadata": {},
   "outputs": [],
   "source": [
    "# Converting the 'Prize' column from object dtype to integer dtype\n",
    "df['Prize'] = df['Prize'].str.replace(',','').astype('Int64')"
   ]
  },
  {
   "cell_type": "markdown",
   "id": "d4f1c796",
   "metadata": {},
   "source": [
    "# ENCODING -- To convert the Categorical values in the columns into Numerical values"
   ]
  },
  {
   "cell_type": "code",
   "execution_count": 8,
   "id": "86409de0",
   "metadata": {},
   "outputs": [
    {
     "data": {
      "text/plain": [
       "<bound method Series.unique of 0            Infinix SMART 7\n",
       "1            Infinix SMART 7\n",
       "2               MOTOROLA G32\n",
       "3                   POCO C50\n",
       "4            Infinix HOT 30i\n",
       "               ...          \n",
       "536    SAMSUNG Galaxy S23 5G\n",
       "537                 LAVA Z21\n",
       "538           Tecno Spark 8T\n",
       "539    SAMSUNG Galaxy A54 5G\n",
       "540                 OPPO A77\n",
       "Name: Model, Length: 541, dtype: object>"
      ]
     },
     "execution_count": 8,
     "metadata": {},
     "output_type": "execute_result"
    }
   ],
   "source": [
    "# Identifying Unique values in 'Model' column for encoding\n",
    "df['Model'].unique"
   ]
  },
  {
   "cell_type": "code",
   "execution_count": 9,
   "id": "b91d78ad",
   "metadata": {},
   "outputs": [
    {
     "data": {
      "text/plain": [
       "<bound method Series.unique of 0         Night Black\n",
       "1          Azure Blue\n",
       "2        Mineral Gray\n",
       "3          Royal Blue\n",
       "4            Marigold\n",
       "            ...      \n",
       "536             Cream\n",
       "537              Cyan\n",
       "538    Turquoise Cyan\n",
       "539      Awesome Lime\n",
       "540          Sky Blue\n",
       "Name: Colour, Length: 541, dtype: object>"
      ]
     },
     "execution_count": 9,
     "metadata": {},
     "output_type": "execute_result"
    }
   ],
   "source": [
    "# Identifying Unique values in 'Colour' column for encoding\n",
    "df['Colour'].unique"
   ]
  },
  {
   "cell_type": "code",
   "execution_count": 10,
   "id": "77be2faf",
   "metadata": {},
   "outputs": [
    {
     "data": {
      "text/plain": [
       "<bound method Series.unique of 0       Unisoc Spreadtrum SC9863A1\n",
       "1       Unisoc Spreadtrum SC9863A1\n",
       "2          Qualcomm Snapdragon 680\n",
       "3               Mediatek Helio A22\n",
       "4                              G37\n",
       "                  ...             \n",
       "536    Qualcomm Snapdragon 8 Gen 2\n",
       "537                      Octa Core\n",
       "538             MediaTek Helio G35\n",
       "539        Exynos 1380, Octa Core \n",
       "540             Mediatek Helio G35\n",
       "Name: Processor_, Length: 541, dtype: object>"
      ]
     },
     "execution_count": 10,
     "metadata": {},
     "output_type": "execute_result"
    }
   ],
   "source": [
    "df['Processor_'].unique"
   ]
  },
  {
   "cell_type": "code",
   "execution_count": 12,
   "id": "514d55de",
   "metadata": {},
   "outputs": [],
   "source": [
    "from sklearn.preprocessing import OrdinalEncoder"
   ]
  },
  {
   "cell_type": "code",
   "execution_count": 13,
   "id": "103fd6a5",
   "metadata": {},
   "outputs": [],
   "source": [
    "# Creating an object named 'encoder' to perform Ordinal Encoding\n",
    "encoder = OrdinalEncoder()"
   ]
  },
  {
   "cell_type": "code",
   "execution_count": 14,
   "id": "513e81d6",
   "metadata": {},
   "outputs": [],
   "source": [
    "columns_to_encode = ['Model','Colour','Processor_']"
   ]
  },
  {
   "cell_type": "code",
   "execution_count": 15,
   "id": "7736eff9",
   "metadata": {},
   "outputs": [],
   "source": [
    "# Encoding the 'Model','Colour', and 'Processor_' column\n",
    "df[columns_to_encode] = encoder.fit_transform(df[columns_to_encode])"
   ]
  },
  {
   "cell_type": "code",
   "execution_count": 16,
   "id": "283c8cab",
   "metadata": {},
   "outputs": [
    {
     "name": "stdout",
     "output_type": "stream",
     "text": [
      "<class 'pandas.core.frame.DataFrame'>\n",
      "RangeIndex: 541 entries, 0 to 540\n",
      "Data columns (total 12 columns):\n",
      " #   Column         Non-Null Count  Dtype  \n",
      "---  ------         --------------  -----  \n",
      " 0   Unnamed: 0     541 non-null    int64  \n",
      " 1   Model          541 non-null    float64\n",
      " 2   Colour         541 non-null    float64\n",
      " 3   Memory         541 non-null    int64  \n",
      " 4   RAM            541 non-null    int64  \n",
      " 5   Battery_       541 non-null    int64  \n",
      " 6   Rear Camera    541 non-null    object \n",
      " 7   Front Camera   541 non-null    object \n",
      " 8   AI Lens        541 non-null    int64  \n",
      " 9   Mobile Height  541 non-null    float64\n",
      " 10  Processor_     541 non-null    float64\n",
      " 11  Prize          541 non-null    Int64  \n",
      "dtypes: Int64(1), float64(4), int64(5), object(2)\n",
      "memory usage: 51.4+ KB\n"
     ]
    }
   ],
   "source": [
    "df.info()"
   ]
  },
  {
   "cell_type": "code",
   "execution_count": 17,
   "id": "e8c44365",
   "metadata": {},
   "outputs": [],
   "source": [
    "# Converting 'Rear Camera' and 'Front Camera' columns from object dtype to integer dtype\n",
    "df['Rear Camera'] = df['Rear Camera'].str.replace('MP', '').astype('Int64')\n",
    "df['Front Camera'] = df['Front Camera'].str.replace('MP', '').astype('Int64')"
   ]
  },
  {
   "cell_type": "code",
   "execution_count": 18,
   "id": "519ff38c",
   "metadata": {},
   "outputs": [
    {
     "name": "stdout",
     "output_type": "stream",
     "text": [
      "<class 'pandas.core.frame.DataFrame'>\n",
      "RangeIndex: 541 entries, 0 to 540\n",
      "Data columns (total 12 columns):\n",
      " #   Column         Non-Null Count  Dtype  \n",
      "---  ------         --------------  -----  \n",
      " 0   Unnamed: 0     541 non-null    int64  \n",
      " 1   Model          541 non-null    float64\n",
      " 2   Colour         541 non-null    float64\n",
      " 3   Memory         541 non-null    int64  \n",
      " 4   RAM            541 non-null    int64  \n",
      " 5   Battery_       541 non-null    int64  \n",
      " 6   Rear Camera    541 non-null    Int64  \n",
      " 7   Front Camera   541 non-null    Int64  \n",
      " 8   AI Lens        541 non-null    int64  \n",
      " 9   Mobile Height  541 non-null    float64\n",
      " 10  Processor_     541 non-null    float64\n",
      " 11  Prize          541 non-null    Int64  \n",
      "dtypes: Int64(3), float64(4), int64(5)\n",
      "memory usage: 52.4 KB\n"
     ]
    }
   ],
   "source": [
    "df.info()"
   ]
  },
  {
   "cell_type": "code",
   "execution_count": 19,
   "id": "23ca9a84",
   "metadata": {},
   "outputs": [
    {
     "data": {
      "text/html": [
       "<div>\n",
       "<style scoped>\n",
       "    .dataframe tbody tr th:only-of-type {\n",
       "        vertical-align: middle;\n",
       "    }\n",
       "\n",
       "    .dataframe tbody tr th {\n",
       "        vertical-align: top;\n",
       "    }\n",
       "\n",
       "    .dataframe thead th {\n",
       "        text-align: right;\n",
       "    }\n",
       "</style>\n",
       "<table border=\"1\" class=\"dataframe\">\n",
       "  <thead>\n",
       "    <tr style=\"text-align: right;\">\n",
       "      <th></th>\n",
       "      <th>Unnamed: 0</th>\n",
       "      <th>Model</th>\n",
       "      <th>Colour</th>\n",
       "      <th>Memory</th>\n",
       "      <th>RAM</th>\n",
       "      <th>Battery_</th>\n",
       "      <th>Rear Camera</th>\n",
       "      <th>Front Camera</th>\n",
       "      <th>AI Lens</th>\n",
       "      <th>Mobile Height</th>\n",
       "      <th>Processor_</th>\n",
       "      <th>Prize</th>\n",
       "    </tr>\n",
       "  </thead>\n",
       "  <tbody>\n",
       "    <tr>\n",
       "      <th>0</th>\n",
       "      <td>0</td>\n",
       "      <td>23.0</td>\n",
       "      <td>159.0</td>\n",
       "      <td>64</td>\n",
       "      <td>4</td>\n",
       "      <td>6000</td>\n",
       "      <td>13</td>\n",
       "      <td>5</td>\n",
       "      <td>1</td>\n",
       "      <td>16.76</td>\n",
       "      <td>113.0</td>\n",
       "      <td>7299</td>\n",
       "    </tr>\n",
       "    <tr>\n",
       "      <th>1</th>\n",
       "      <td>1</td>\n",
       "      <td>23.0</td>\n",
       "      <td>20.0</td>\n",
       "      <td>64</td>\n",
       "      <td>4</td>\n",
       "      <td>6000</td>\n",
       "      <td>13</td>\n",
       "      <td>5</td>\n",
       "      <td>1</td>\n",
       "      <td>16.76</td>\n",
       "      <td>113.0</td>\n",
       "      <td>7299</td>\n",
       "    </tr>\n",
       "    <tr>\n",
       "      <th>2</th>\n",
       "      <td>2</td>\n",
       "      <td>37.0</td>\n",
       "      <td>149.0</td>\n",
       "      <td>128</td>\n",
       "      <td>8</td>\n",
       "      <td>5000</td>\n",
       "      <td>50</td>\n",
       "      <td>16</td>\n",
       "      <td>0</td>\n",
       "      <td>16.64</td>\n",
       "      <td>75.0</td>\n",
       "      <td>11999</td>\n",
       "    </tr>\n",
       "    <tr>\n",
       "      <th>3</th>\n",
       "      <td>3</td>\n",
       "      <td>69.0</td>\n",
       "      <td>201.0</td>\n",
       "      <td>32</td>\n",
       "      <td>2</td>\n",
       "      <td>5000</td>\n",
       "      <td>8</td>\n",
       "      <td>5</td>\n",
       "      <td>0</td>\n",
       "      <td>16.56</td>\n",
       "      <td>56.0</td>\n",
       "      <td>5649</td>\n",
       "    </tr>\n",
       "    <tr>\n",
       "      <th>4</th>\n",
       "      <td>4</td>\n",
       "      <td>12.0</td>\n",
       "      <td>130.0</td>\n",
       "      <td>128</td>\n",
       "      <td>8</td>\n",
       "      <td>5000</td>\n",
       "      <td>50</td>\n",
       "      <td>5</td>\n",
       "      <td>1</td>\n",
       "      <td>16.76</td>\n",
       "      <td>14.0</td>\n",
       "      <td>8999</td>\n",
       "    </tr>\n",
       "    <tr>\n",
       "      <th>...</th>\n",
       "      <td>...</td>\n",
       "      <td>...</td>\n",
       "      <td>...</td>\n",
       "      <td>...</td>\n",
       "      <td>...</td>\n",
       "      <td>...</td>\n",
       "      <td>...</td>\n",
       "      <td>...</td>\n",
       "      <td>...</td>\n",
       "      <td>...</td>\n",
       "      <td>...</td>\n",
       "      <td>...</td>\n",
       "    </tr>\n",
       "    <tr>\n",
       "      <th>536</th>\n",
       "      <td>637</td>\n",
       "      <td>118.0</td>\n",
       "      <td>49.0</td>\n",
       "      <td>256</td>\n",
       "      <td>8</td>\n",
       "      <td>3900</td>\n",
       "      <td>50</td>\n",
       "      <td>12</td>\n",
       "      <td>0</td>\n",
       "      <td>15.49</td>\n",
       "      <td>89.0</td>\n",
       "      <td>79999</td>\n",
       "    </tr>\n",
       "    <tr>\n",
       "      <th>537</th>\n",
       "      <td>638</td>\n",
       "      <td>32.0</td>\n",
       "      <td>52.0</td>\n",
       "      <td>32</td>\n",
       "      <td>2</td>\n",
       "      <td>3100</td>\n",
       "      <td>5</td>\n",
       "      <td>2</td>\n",
       "      <td>0</td>\n",
       "      <td>12.70</td>\n",
       "      <td>68.0</td>\n",
       "      <td>5998</td>\n",
       "    </tr>\n",
       "    <tr>\n",
       "      <th>538</th>\n",
       "      <td>639</td>\n",
       "      <td>123.0</td>\n",
       "      <td>259.0</td>\n",
       "      <td>64</td>\n",
       "      <td>4</td>\n",
       "      <td>5000</td>\n",
       "      <td>50</td>\n",
       "      <td>8</td>\n",
       "      <td>0</td>\n",
       "      <td>16.76</td>\n",
       "      <td>35.0</td>\n",
       "      <td>9990</td>\n",
       "    </tr>\n",
       "    <tr>\n",
       "      <th>539</th>\n",
       "      <td>641</td>\n",
       "      <td>110.0</td>\n",
       "      <td>17.0</td>\n",
       "      <td>128</td>\n",
       "      <td>8</td>\n",
       "      <td>5000</td>\n",
       "      <td>50</td>\n",
       "      <td>32</td>\n",
       "      <td>0</td>\n",
       "      <td>16.26</td>\n",
       "      <td>11.0</td>\n",
       "      <td>38999</td>\n",
       "    </tr>\n",
       "    <tr>\n",
       "      <th>540</th>\n",
       "      <td>642</td>\n",
       "      <td>59.0</td>\n",
       "      <td>215.0</td>\n",
       "      <td>128</td>\n",
       "      <td>4</td>\n",
       "      <td>5000</td>\n",
       "      <td>50</td>\n",
       "      <td>8</td>\n",
       "      <td>0</td>\n",
       "      <td>16.66</td>\n",
       "      <td>57.0</td>\n",
       "      <td>15999</td>\n",
       "    </tr>\n",
       "  </tbody>\n",
       "</table>\n",
       "<p>541 rows × 12 columns</p>\n",
       "</div>"
      ],
      "text/plain": [
       "     Unnamed: 0  Model  Colour  Memory  RAM  Battery_  Rear Camera  \\\n",
       "0             0   23.0   159.0      64    4      6000           13   \n",
       "1             1   23.0    20.0      64    4      6000           13   \n",
       "2             2   37.0   149.0     128    8      5000           50   \n",
       "3             3   69.0   201.0      32    2      5000            8   \n",
       "4             4   12.0   130.0     128    8      5000           50   \n",
       "..          ...    ...     ...     ...  ...       ...          ...   \n",
       "536         637  118.0    49.0     256    8      3900           50   \n",
       "537         638   32.0    52.0      32    2      3100            5   \n",
       "538         639  123.0   259.0      64    4      5000           50   \n",
       "539         641  110.0    17.0     128    8      5000           50   \n",
       "540         642   59.0   215.0     128    4      5000           50   \n",
       "\n",
       "     Front Camera  AI Lens  Mobile Height  Processor_  Prize  \n",
       "0               5        1          16.76       113.0   7299  \n",
       "1               5        1          16.76       113.0   7299  \n",
       "2              16        0          16.64        75.0  11999  \n",
       "3               5        0          16.56        56.0   5649  \n",
       "4               5        1          16.76        14.0   8999  \n",
       "..            ...      ...            ...         ...    ...  \n",
       "536            12        0          15.49        89.0  79999  \n",
       "537             2        0          12.70        68.0   5998  \n",
       "538             8        0          16.76        35.0   9990  \n",
       "539            32        0          16.26        11.0  38999  \n",
       "540             8        0          16.66        57.0  15999  \n",
       "\n",
       "[541 rows x 12 columns]"
      ]
     },
     "execution_count": 19,
     "metadata": {},
     "output_type": "execute_result"
    }
   ],
   "source": [
    "df"
   ]
  },
  {
   "cell_type": "code",
   "execution_count": 20,
   "id": "f189e457",
   "metadata": {},
   "outputs": [],
   "source": [
    "# Dropping unnecessary column 'Unnamed: 0'\n",
    "df.drop(['Unnamed: 0'],axis=1,inplace=True)"
   ]
  },
  {
   "cell_type": "markdown",
   "id": "1713e0dc",
   "metadata": {},
   "source": [
    "# Analysing Correlation between 'Prize' (Target feature) and Independent Features "
   ]
  },
  {
   "cell_type": "code",
   "execution_count": 24,
   "id": "3bd21d0c",
   "metadata": {},
   "outputs": [
    {
     "data": {
      "text/plain": [
       "Prize            1.000000\n",
       "Memory           0.566660\n",
       "Front Camera     0.532321\n",
       "RAM              0.532024\n",
       "Rear Camera      0.410367\n",
       "Mobile Height    0.176009\n",
       "Colour           0.038895\n",
       "Battery_        -0.034297\n",
       "Processor_      -0.050244\n",
       "Model           -0.075163\n",
       "AI Lens         -0.153691\n",
       "Name: Prize, dtype: float64"
      ]
     },
     "execution_count": 24,
     "metadata": {},
     "output_type": "execute_result"
    }
   ],
   "source": [
    "df.corr(numeric_only = True)['Prize'].sort_values(ascending=False)"
   ]
  },
  {
   "cell_type": "code",
   "execution_count": 27,
   "id": "9cf5b0e0",
   "metadata": {},
   "outputs": [
    {
     "data": {
      "image/png": "[encoded data removed]",
      "text/plain": [
       "<Figure size 2400x600 with 2 Axes>"
      ]
     },
     "metadata": {},
     "output_type": "display_data"
    }
   ],
   "source": [
    "# Visual analysis of correlation through heatmap\n",
    "plt.figure(figsize=(12,3),dpi=200)\n",
    "sns.heatmap(df.corr(numeric_only=True)[['Memory','Front Camera','RAM','Rear Camera','Mobile Height','Colour','Battery_','Processor_','AI Lens','Prize']],annot=True,cmap='viridis')\n",
    "plt.title('Correlation of features with Prize')\n",
    "plt.show()\n",
    "\n",
    "# Conclusion -- Top 5 features affecting Price are Memory, Front Camera, RAM, Rear Camera and Mobile Height"
   ]
  },
  {
   "cell_type": "markdown",
   "id": "0a40e86e",
   "metadata": {},
   "source": [
    "# Identifying and treating the Outliers in the dataset "
   ]
  },
  {
   "cell_type": "code",
   "execution_count": 29,
   "id": "13a73d24",
   "metadata": {},
   "outputs": [],
   "source": [
    "# Identifying Outliers through Quantile Method\n",
    "q1 = df['Prize'].quantile(0.25)\n",
    "q3 = df['Prize'].quantile(0.75)\n",
    "IQR = q3 - q1\n",
    "outliers = df[(df['Prize'] <= (q1 - 1.5*IQR)) | (df['Prize'] >= (q3 + 1.5*IQR))]"
   ]
  },
  {
   "cell_type": "code",
   "execution_count": 30,
   "id": "dc56496a",
   "metadata": {},
   "outputs": [
    {
     "data": {
      "text/html": [
       "<div>\n",
       "<style scoped>\n",
       "    .dataframe tbody tr th:only-of-type {\n",
       "        vertical-align: middle;\n",
       "    }\n",
       "\n",
       "    .dataframe tbody tr th {\n",
       "        vertical-align: top;\n",
       "    }\n",
       "\n",
       "    .dataframe thead th {\n",
       "        text-align: right;\n",
       "    }\n",
       "</style>\n",
       "<table border=\"1\" class=\"dataframe\">\n",
       "  <thead>\n",
       "    <tr style=\"text-align: right;\">\n",
       "      <th></th>\n",
       "      <th>Model</th>\n",
       "      <th>Colour</th>\n",
       "      <th>Memory</th>\n",
       "      <th>RAM</th>\n",
       "      <th>Battery_</th>\n",
       "      <th>Rear Camera</th>\n",
       "      <th>Front Camera</th>\n",
       "      <th>AI Lens</th>\n",
       "      <th>Mobile Height</th>\n",
       "      <th>Processor_</th>\n",
       "      <th>Prize</th>\n",
       "    </tr>\n",
       "  </thead>\n",
       "  <tbody>\n",
       "    <tr>\n",
       "      <th>222</th>\n",
       "      <td>117.0</td>\n",
       "      <td>181.0</td>\n",
       "      <td>128</td>\n",
       "      <td>8</td>\n",
       "      <td>4500</td>\n",
       "      <td>50</td>\n",
       "      <td>10</td>\n",
       "      <td>0</td>\n",
       "      <td>16.76</td>\n",
       "      <td>88.0</td>\n",
       "      <td>49999</td>\n",
       "    </tr>\n",
       "    <tr>\n",
       "      <th>286</th>\n",
       "      <td>119.0</td>\n",
       "      <td>181.0</td>\n",
       "      <td>128</td>\n",
       "      <td>8</td>\n",
       "      <td>3300</td>\n",
       "      <td>12</td>\n",
       "      <td>10</td>\n",
       "      <td>0</td>\n",
       "      <td>17.02</td>\n",
       "      <td>97.0</td>\n",
       "      <td>44999</td>\n",
       "    </tr>\n",
       "    <tr>\n",
       "      <th>305</th>\n",
       "      <td>34.0</td>\n",
       "      <td>47.0</td>\n",
       "      <td>128</td>\n",
       "      <td>8</td>\n",
       "      <td>4400</td>\n",
       "      <td>50</td>\n",
       "      <td>32</td>\n",
       "      <td>0</td>\n",
       "      <td>16.64</td>\n",
       "      <td>96.0</td>\n",
       "      <td>34999</td>\n",
       "    </tr>\n",
       "    <tr>\n",
       "      <th>308</th>\n",
       "      <td>5.0</td>\n",
       "      <td>209.0</td>\n",
       "      <td>128</td>\n",
       "      <td>8</td>\n",
       "      <td>4300</td>\n",
       "      <td>64</td>\n",
       "      <td>13</td>\n",
       "      <td>0</td>\n",
       "      <td>15.49</td>\n",
       "      <td>108.0</td>\n",
       "      <td>43999</td>\n",
       "    </tr>\n",
       "    <tr>\n",
       "      <th>309</th>\n",
       "      <td>5.0</td>\n",
       "      <td>37.0</td>\n",
       "      <td>128</td>\n",
       "      <td>8</td>\n",
       "      <td>4300</td>\n",
       "      <td>64</td>\n",
       "      <td>13</td>\n",
       "      <td>0</td>\n",
       "      <td>15.49</td>\n",
       "      <td>108.0</td>\n",
       "      <td>43999</td>\n",
       "    </tr>\n",
       "    <tr>\n",
       "      <th>327</th>\n",
       "      <td>5.0</td>\n",
       "      <td>217.0</td>\n",
       "      <td>128</td>\n",
       "      <td>8</td>\n",
       "      <td>4300</td>\n",
       "      <td>64</td>\n",
       "      <td>13</td>\n",
       "      <td>0</td>\n",
       "      <td>15.49</td>\n",
       "      <td>108.0</td>\n",
       "      <td>43999</td>\n",
       "    </tr>\n",
       "    <tr>\n",
       "      <th>396</th>\n",
       "      <td>176.0</td>\n",
       "      <td>129.0</td>\n",
       "      <td>256</td>\n",
       "      <td>4</td>\n",
       "      <td>4600</td>\n",
       "      <td>50</td>\n",
       "      <td>50</td>\n",
       "      <td>0</td>\n",
       "      <td>17.22</td>\n",
       "      <td>48.0</td>\n",
       "      <td>36999</td>\n",
       "    </tr>\n",
       "    <tr>\n",
       "      <th>400</th>\n",
       "      <td>35.0</td>\n",
       "      <td>107.0</td>\n",
       "      <td>256</td>\n",
       "      <td>4</td>\n",
       "      <td>4610</td>\n",
       "      <td>200</td>\n",
       "      <td>60</td>\n",
       "      <td>0</td>\n",
       "      <td>16.94</td>\n",
       "      <td>90.0</td>\n",
       "      <td>49999</td>\n",
       "    </tr>\n",
       "    <tr>\n",
       "      <th>416</th>\n",
       "      <td>4.0</td>\n",
       "      <td>217.0</td>\n",
       "      <td>128</td>\n",
       "      <td>8</td>\n",
       "      <td>4270</td>\n",
       "      <td>50</td>\n",
       "      <td>8</td>\n",
       "      <td>0</td>\n",
       "      <td>16.00</td>\n",
       "      <td>16.0</td>\n",
       "      <td>55999</td>\n",
       "    </tr>\n",
       "    <tr>\n",
       "      <th>417</th>\n",
       "      <td>4.0</td>\n",
       "      <td>165.0</td>\n",
       "      <td>128</td>\n",
       "      <td>8</td>\n",
       "      <td>4270</td>\n",
       "      <td>50</td>\n",
       "      <td>8</td>\n",
       "      <td>0</td>\n",
       "      <td>16.00</td>\n",
       "      <td>16.0</td>\n",
       "      <td>55999</td>\n",
       "    </tr>\n",
       "    <tr>\n",
       "      <th>419</th>\n",
       "      <td>34.0</td>\n",
       "      <td>220.0</td>\n",
       "      <td>128</td>\n",
       "      <td>8</td>\n",
       "      <td>4400</td>\n",
       "      <td>50</td>\n",
       "      <td>32</td>\n",
       "      <td>0</td>\n",
       "      <td>16.64</td>\n",
       "      <td>96.0</td>\n",
       "      <td>34999</td>\n",
       "    </tr>\n",
       "    <tr>\n",
       "      <th>426</th>\n",
       "      <td>4.0</td>\n",
       "      <td>118.0</td>\n",
       "      <td>128</td>\n",
       "      <td>8</td>\n",
       "      <td>4270</td>\n",
       "      <td>50</td>\n",
       "      <td>8</td>\n",
       "      <td>0</td>\n",
       "      <td>16.00</td>\n",
       "      <td>16.0</td>\n",
       "      <td>55999</td>\n",
       "    </tr>\n",
       "    <tr>\n",
       "      <th>455</th>\n",
       "      <td>65.0</td>\n",
       "      <td>108.0</td>\n",
       "      <td>256</td>\n",
       "      <td>8</td>\n",
       "      <td>4300</td>\n",
       "      <td>48</td>\n",
       "      <td>32</td>\n",
       "      <td>0</td>\n",
       "      <td>16.64</td>\n",
       "      <td>94.0</td>\n",
       "      <td>38920</td>\n",
       "    </tr>\n",
       "    <tr>\n",
       "      <th>465</th>\n",
       "      <td>110.0</td>\n",
       "      <td>16.0</td>\n",
       "      <td>256</td>\n",
       "      <td>8</td>\n",
       "      <td>5000</td>\n",
       "      <td>50</td>\n",
       "      <td>32</td>\n",
       "      <td>0</td>\n",
       "      <td>16.26</td>\n",
       "      <td>11.0</td>\n",
       "      <td>40999</td>\n",
       "    </tr>\n",
       "    <tr>\n",
       "      <th>474</th>\n",
       "      <td>0.0</td>\n",
       "      <td>25.0</td>\n",
       "      <td>64</td>\n",
       "      <td>8</td>\n",
       "      <td>3110</td>\n",
       "      <td>12</td>\n",
       "      <td>12</td>\n",
       "      <td>0</td>\n",
       "      <td>15.49</td>\n",
       "      <td>121.0</td>\n",
       "      <td>41199</td>\n",
       "    </tr>\n",
       "    <tr>\n",
       "      <th>489</th>\n",
       "      <td>35.0</td>\n",
       "      <td>232.0</td>\n",
       "      <td>256</td>\n",
       "      <td>6</td>\n",
       "      <td>4610</td>\n",
       "      <td>200</td>\n",
       "      <td>60</td>\n",
       "      <td>0</td>\n",
       "      <td>16.94</td>\n",
       "      <td>90.0</td>\n",
       "      <td>49999</td>\n",
       "    </tr>\n",
       "    <tr>\n",
       "      <th>493</th>\n",
       "      <td>2.0</td>\n",
       "      <td>144.0</td>\n",
       "      <td>128</td>\n",
       "      <td>6</td>\n",
       "      <td>4323</td>\n",
       "      <td>12</td>\n",
       "      <td>12</td>\n",
       "      <td>0</td>\n",
       "      <td>17.02</td>\n",
       "      <td>23.0</td>\n",
       "      <td>80999</td>\n",
       "    </tr>\n",
       "    <tr>\n",
       "      <th>496</th>\n",
       "      <td>175.0</td>\n",
       "      <td>204.0</td>\n",
       "      <td>128</td>\n",
       "      <td>8</td>\n",
       "      <td>4830</td>\n",
       "      <td>64</td>\n",
       "      <td>32</td>\n",
       "      <td>0</td>\n",
       "      <td>16.66</td>\n",
       "      <td>46.0</td>\n",
       "      <td>35999</td>\n",
       "    </tr>\n",
       "    <tr>\n",
       "      <th>515</th>\n",
       "      <td>110.0</td>\n",
       "      <td>19.0</td>\n",
       "      <td>256</td>\n",
       "      <td>8</td>\n",
       "      <td>5000</td>\n",
       "      <td>50</td>\n",
       "      <td>32</td>\n",
       "      <td>0</td>\n",
       "      <td>16.26</td>\n",
       "      <td>11.0</td>\n",
       "      <td>40999</td>\n",
       "    </tr>\n",
       "    <tr>\n",
       "      <th>520</th>\n",
       "      <td>2.0</td>\n",
       "      <td>193.0</td>\n",
       "      <td>128</td>\n",
       "      <td>3</td>\n",
       "      <td>4323</td>\n",
       "      <td>12</td>\n",
       "      <td>12</td>\n",
       "      <td>0</td>\n",
       "      <td>17.02</td>\n",
       "      <td>2.0</td>\n",
       "      <td>80999</td>\n",
       "    </tr>\n",
       "    <tr>\n",
       "      <th>522</th>\n",
       "      <td>8.0</td>\n",
       "      <td>82.0</td>\n",
       "      <td>256</td>\n",
       "      <td>4</td>\n",
       "      <td>5000</td>\n",
       "      <td>64</td>\n",
       "      <td>16</td>\n",
       "      <td>0</td>\n",
       "      <td>17.22</td>\n",
       "      <td>9.0</td>\n",
       "      <td>34688</td>\n",
       "    </tr>\n",
       "    <tr>\n",
       "      <th>525</th>\n",
       "      <td>2.0</td>\n",
       "      <td>230.0</td>\n",
       "      <td>128</td>\n",
       "      <td>4</td>\n",
       "      <td>4323</td>\n",
       "      <td>12</td>\n",
       "      <td>12</td>\n",
       "      <td>0</td>\n",
       "      <td>17.02</td>\n",
       "      <td>121.0</td>\n",
       "      <td>80999</td>\n",
       "    </tr>\n",
       "    <tr>\n",
       "      <th>532</th>\n",
       "      <td>1.0</td>\n",
       "      <td>29.0</td>\n",
       "      <td>64</td>\n",
       "      <td>8</td>\n",
       "      <td>2815</td>\n",
       "      <td>12</td>\n",
       "      <td>12</td>\n",
       "      <td>0</td>\n",
       "      <td>15.49</td>\n",
       "      <td>121.0</td>\n",
       "      <td>53999</td>\n",
       "    </tr>\n",
       "    <tr>\n",
       "      <th>536</th>\n",
       "      <td>118.0</td>\n",
       "      <td>49.0</td>\n",
       "      <td>256</td>\n",
       "      <td>8</td>\n",
       "      <td>3900</td>\n",
       "      <td>50</td>\n",
       "      <td>12</td>\n",
       "      <td>0</td>\n",
       "      <td>15.49</td>\n",
       "      <td>89.0</td>\n",
       "      <td>79999</td>\n",
       "    </tr>\n",
       "    <tr>\n",
       "      <th>539</th>\n",
       "      <td>110.0</td>\n",
       "      <td>17.0</td>\n",
       "      <td>128</td>\n",
       "      <td>8</td>\n",
       "      <td>5000</td>\n",
       "      <td>50</td>\n",
       "      <td>32</td>\n",
       "      <td>0</td>\n",
       "      <td>16.26</td>\n",
       "      <td>11.0</td>\n",
       "      <td>38999</td>\n",
       "    </tr>\n",
       "  </tbody>\n",
       "</table>\n",
       "</div>"
      ],
      "text/plain": [
       "     Model  Colour  Memory  RAM  Battery_  Rear Camera  Front Camera  AI Lens  \\\n",
       "222  117.0   181.0     128    8      4500           50            10        0   \n",
       "286  119.0   181.0     128    8      3300           12            10        0   \n",
       "305   34.0    47.0     128    8      4400           50            32        0   \n",
       "308    5.0   209.0     128    8      4300           64            13        0   \n",
       "309    5.0    37.0     128    8      4300           64            13        0   \n",
       "327    5.0   217.0     128    8      4300           64            13        0   \n",
       "396  176.0   129.0     256    4      4600           50            50        0   \n",
       "400   35.0   107.0     256    4      4610          200            60        0   \n",
       "416    4.0   217.0     128    8      4270           50             8        0   \n",
       "417    4.0   165.0     128    8      4270           50             8        0   \n",
       "419   34.0   220.0     128    8      4400           50            32        0   \n",
       "426    4.0   118.0     128    8      4270           50             8        0   \n",
       "455   65.0   108.0     256    8      4300           48            32        0   \n",
       "465  110.0    16.0     256    8      5000           50            32        0   \n",
       "474    0.0    25.0      64    8      3110           12            12        0   \n",
       "489   35.0   232.0     256    6      4610          200            60        0   \n",
       "493    2.0   144.0     128    6      4323           12            12        0   \n",
       "496  175.0   204.0     128    8      4830           64            32        0   \n",
       "515  110.0    19.0     256    8      5000           50            32        0   \n",
       "520    2.0   193.0     128    3      4323           12            12        0   \n",
       "522    8.0    82.0     256    4      5000           64            16        0   \n",
       "525    2.0   230.0     128    4      4323           12            12        0   \n",
       "532    1.0    29.0      64    8      2815           12            12        0   \n",
       "536  118.0    49.0     256    8      3900           50            12        0   \n",
       "539  110.0    17.0     128    8      5000           50            32        0   \n",
       "\n",
       "     Mobile Height  Processor_  Prize  \n",
       "222          16.76        88.0  49999  \n",
       "286          17.02        97.0  44999  \n",
       "305          16.64        96.0  34999  \n",
       "308          15.49       108.0  43999  \n",
       "309          15.49       108.0  43999  \n",
       "327          15.49       108.0  43999  \n",
       "396          17.22        48.0  36999  \n",
       "400          16.94        90.0  49999  \n",
       "416          16.00        16.0  55999  \n",
       "417          16.00        16.0  55999  \n",
       "419          16.64        96.0  34999  \n",
       "426          16.00        16.0  55999  \n",
       "455          16.64        94.0  38920  \n",
       "465          16.26        11.0  40999  \n",
       "474          15.49       121.0  41199  \n",
       "489          16.94        90.0  49999  \n",
       "493          17.02        23.0  80999  \n",
       "496          16.66        46.0  35999  \n",
       "515          16.26        11.0  40999  \n",
       "520          17.02         2.0  80999  \n",
       "522          17.22         9.0  34688  \n",
       "525          17.02       121.0  80999  \n",
       "532          15.49       121.0  53999  \n",
       "536          15.49        89.0  79999  \n",
       "539          16.26        11.0  38999  "
      ]
     },
     "execution_count": 30,
     "metadata": {},
     "output_type": "execute_result"
    }
   ],
   "source": [
    "outliers"
   ]
  },
  {
   "cell_type": "code",
   "execution_count": 31,
   "id": "4eecd48d",
   "metadata": {},
   "outputs": [],
   "source": [
    "# Removing the outliers\n",
    "df.drop((outliers.index),inplace=True)"
   ]
  },
  {
   "cell_type": "code",
   "execution_count": 32,
   "id": "7b451082",
   "metadata": {},
   "outputs": [
    {
     "data": {
      "text/html": [
       "<div>\n",
       "<style scoped>\n",
       "    .dataframe tbody tr th:only-of-type {\n",
       "        vertical-align: middle;\n",
       "    }\n",
       "\n",
       "    .dataframe tbody tr th {\n",
       "        vertical-align: top;\n",
       "    }\n",
       "\n",
       "    .dataframe thead th {\n",
       "        text-align: right;\n",
       "    }\n",
       "</style>\n",
       "<table border=\"1\" class=\"dataframe\">\n",
       "  <thead>\n",
       "    <tr style=\"text-align: right;\">\n",
       "      <th></th>\n",
       "      <th>Model</th>\n",
       "      <th>Colour</th>\n",
       "      <th>Memory</th>\n",
       "      <th>RAM</th>\n",
       "      <th>Battery_</th>\n",
       "      <th>Rear Camera</th>\n",
       "      <th>Front Camera</th>\n",
       "      <th>AI Lens</th>\n",
       "      <th>Mobile Height</th>\n",
       "      <th>Processor_</th>\n",
       "      <th>Prize</th>\n",
       "    </tr>\n",
       "  </thead>\n",
       "  <tbody>\n",
       "    <tr>\n",
       "      <th>0</th>\n",
       "      <td>23.0</td>\n",
       "      <td>159.0</td>\n",
       "      <td>64</td>\n",
       "      <td>4</td>\n",
       "      <td>6000</td>\n",
       "      <td>13</td>\n",
       "      <td>5</td>\n",
       "      <td>1</td>\n",
       "      <td>16.76</td>\n",
       "      <td>113.0</td>\n",
       "      <td>7299</td>\n",
       "    </tr>\n",
       "    <tr>\n",
       "      <th>1</th>\n",
       "      <td>23.0</td>\n",
       "      <td>20.0</td>\n",
       "      <td>64</td>\n",
       "      <td>4</td>\n",
       "      <td>6000</td>\n",
       "      <td>13</td>\n",
       "      <td>5</td>\n",
       "      <td>1</td>\n",
       "      <td>16.76</td>\n",
       "      <td>113.0</td>\n",
       "      <td>7299</td>\n",
       "    </tr>\n",
       "    <tr>\n",
       "      <th>2</th>\n",
       "      <td>37.0</td>\n",
       "      <td>149.0</td>\n",
       "      <td>128</td>\n",
       "      <td>8</td>\n",
       "      <td>5000</td>\n",
       "      <td>50</td>\n",
       "      <td>16</td>\n",
       "      <td>0</td>\n",
       "      <td>16.64</td>\n",
       "      <td>75.0</td>\n",
       "      <td>11999</td>\n",
       "    </tr>\n",
       "    <tr>\n",
       "      <th>3</th>\n",
       "      <td>69.0</td>\n",
       "      <td>201.0</td>\n",
       "      <td>32</td>\n",
       "      <td>2</td>\n",
       "      <td>5000</td>\n",
       "      <td>8</td>\n",
       "      <td>5</td>\n",
       "      <td>0</td>\n",
       "      <td>16.56</td>\n",
       "      <td>56.0</td>\n",
       "      <td>5649</td>\n",
       "    </tr>\n",
       "    <tr>\n",
       "      <th>4</th>\n",
       "      <td>12.0</td>\n",
       "      <td>130.0</td>\n",
       "      <td>128</td>\n",
       "      <td>8</td>\n",
       "      <td>5000</td>\n",
       "      <td>50</td>\n",
       "      <td>5</td>\n",
       "      <td>1</td>\n",
       "      <td>16.76</td>\n",
       "      <td>14.0</td>\n",
       "      <td>8999</td>\n",
       "    </tr>\n",
       "    <tr>\n",
       "      <th>...</th>\n",
       "      <td>...</td>\n",
       "      <td>...</td>\n",
       "      <td>...</td>\n",
       "      <td>...</td>\n",
       "      <td>...</td>\n",
       "      <td>...</td>\n",
       "      <td>...</td>\n",
       "      <td>...</td>\n",
       "      <td>...</td>\n",
       "      <td>...</td>\n",
       "      <td>...</td>\n",
       "    </tr>\n",
       "    <tr>\n",
       "      <th>534</th>\n",
       "      <td>55.0</td>\n",
       "      <td>96.0</td>\n",
       "      <td>64</td>\n",
       "      <td>4</td>\n",
       "      <td>5000</td>\n",
       "      <td>50</td>\n",
       "      <td>8</td>\n",
       "      <td>0</td>\n",
       "      <td>16.55</td>\n",
       "      <td>68.0</td>\n",
       "      <td>9790</td>\n",
       "    </tr>\n",
       "    <tr>\n",
       "      <th>535</th>\n",
       "      <td>104.0</td>\n",
       "      <td>119.0</td>\n",
       "      <td>64</td>\n",
       "      <td>3</td>\n",
       "      <td>5000</td>\n",
       "      <td>13</td>\n",
       "      <td>5</td>\n",
       "      <td>0</td>\n",
       "      <td>16.51</td>\n",
       "      <td>65.0</td>\n",
       "      <td>9999</td>\n",
       "    </tr>\n",
       "    <tr>\n",
       "      <th>537</th>\n",
       "      <td>32.0</td>\n",
       "      <td>52.0</td>\n",
       "      <td>32</td>\n",
       "      <td>2</td>\n",
       "      <td>3100</td>\n",
       "      <td>5</td>\n",
       "      <td>2</td>\n",
       "      <td>0</td>\n",
       "      <td>12.70</td>\n",
       "      <td>68.0</td>\n",
       "      <td>5998</td>\n",
       "    </tr>\n",
       "    <tr>\n",
       "      <th>538</th>\n",
       "      <td>123.0</td>\n",
       "      <td>259.0</td>\n",
       "      <td>64</td>\n",
       "      <td>4</td>\n",
       "      <td>5000</td>\n",
       "      <td>50</td>\n",
       "      <td>8</td>\n",
       "      <td>0</td>\n",
       "      <td>16.76</td>\n",
       "      <td>35.0</td>\n",
       "      <td>9990</td>\n",
       "    </tr>\n",
       "    <tr>\n",
       "      <th>540</th>\n",
       "      <td>59.0</td>\n",
       "      <td>215.0</td>\n",
       "      <td>128</td>\n",
       "      <td>4</td>\n",
       "      <td>5000</td>\n",
       "      <td>50</td>\n",
       "      <td>8</td>\n",
       "      <td>0</td>\n",
       "      <td>16.66</td>\n",
       "      <td>57.0</td>\n",
       "      <td>15999</td>\n",
       "    </tr>\n",
       "  </tbody>\n",
       "</table>\n",
       "<p>516 rows × 11 columns</p>\n",
       "</div>"
      ],
      "text/plain": [
       "     Model  Colour  Memory  RAM  Battery_  Rear Camera  Front Camera  AI Lens  \\\n",
       "0     23.0   159.0      64    4      6000           13             5        1   \n",
       "1     23.0    20.0      64    4      6000           13             5        1   \n",
       "2     37.0   149.0     128    8      5000           50            16        0   \n",
       "3     69.0   201.0      32    2      5000            8             5        0   \n",
       "4     12.0   130.0     128    8      5000           50             5        1   \n",
       "..     ...     ...     ...  ...       ...          ...           ...      ...   \n",
       "534   55.0    96.0      64    4      5000           50             8        0   \n",
       "535  104.0   119.0      64    3      5000           13             5        0   \n",
       "537   32.0    52.0      32    2      3100            5             2        0   \n",
       "538  123.0   259.0      64    4      5000           50             8        0   \n",
       "540   59.0   215.0     128    4      5000           50             8        0   \n",
       "\n",
       "     Mobile Height  Processor_  Prize  \n",
       "0            16.76       113.0   7299  \n",
       "1            16.76       113.0   7299  \n",
       "2            16.64        75.0  11999  \n",
       "3            16.56        56.0   5649  \n",
       "4            16.76        14.0   8999  \n",
       "..             ...         ...    ...  \n",
       "534          16.55        68.0   9790  \n",
       "535          16.51        65.0   9999  \n",
       "537          12.70        68.0   5998  \n",
       "538          16.76        35.0   9990  \n",
       "540          16.66        57.0  15999  \n",
       "\n",
       "[516 rows x 11 columns]"
      ]
     },
     "execution_count": 32,
     "metadata": {},
     "output_type": "execute_result"
    }
   ],
   "source": [
    "df"
   ]
  },
  {
   "cell_type": "code",
   "execution_count": 41,
   "id": "04350146",
   "metadata": {},
   "outputs": [
    {
     "data": {
      "text/html": [
       "<div>\n",
       "<style scoped>\n",
       "    .dataframe tbody tr th:only-of-type {\n",
       "        vertical-align: middle;\n",
       "    }\n",
       "\n",
       "    .dataframe tbody tr th {\n",
       "        vertical-align: top;\n",
       "    }\n",
       "\n",
       "    .dataframe thead th {\n",
       "        text-align: right;\n",
       "    }\n",
       "</style>\n",
       "<table border=\"1\" class=\"dataframe\">\n",
       "  <thead>\n",
       "    <tr style=\"text-align: right;\">\n",
       "      <th></th>\n",
       "      <th>Model</th>\n",
       "      <th>Colour</th>\n",
       "      <th>Memory</th>\n",
       "      <th>RAM</th>\n",
       "      <th>Battery_</th>\n",
       "      <th>Rear Camera</th>\n",
       "      <th>Front Camera</th>\n",
       "      <th>AI Lens</th>\n",
       "      <th>Mobile Height</th>\n",
       "      <th>Processor_</th>\n",
       "      <th>Prize</th>\n",
       "    </tr>\n",
       "  </thead>\n",
       "  <tbody>\n",
       "    <tr>\n",
       "      <th>count</th>\n",
       "      <td>516.000000</td>\n",
       "      <td>516.000000</td>\n",
       "      <td>516.000000</td>\n",
       "      <td>516.000000</td>\n",
       "      <td>516.000000</td>\n",
       "      <td>516.0</td>\n",
       "      <td>516.0</td>\n",
       "      <td>516.000000</td>\n",
       "      <td>516.000000</td>\n",
       "      <td>516.000000</td>\n",
       "      <td>516.0</td>\n",
       "    </tr>\n",
       "    <tr>\n",
       "      <th>mean</th>\n",
       "      <td>98.984496</td>\n",
       "      <td>134.546512</td>\n",
       "      <td>107.968992</td>\n",
       "      <td>5.319767</td>\n",
       "      <td>4898.207364</td>\n",
       "      <td>45.651163</td>\n",
       "      <td>11.478682</td>\n",
       "      <td>0.065891</td>\n",
       "      <td>16.433760</td>\n",
       "      <td>61.339147</td>\n",
       "      <td>14590.631783</td>\n",
       "    </tr>\n",
       "    <tr>\n",
       "      <th>std</th>\n",
       "      <td>51.334878</td>\n",
       "      <td>78.976682</td>\n",
       "      <td>59.144968</td>\n",
       "      <td>1.964855</td>\n",
       "      <td>780.082852</td>\n",
       "      <td>30.256868</td>\n",
       "      <td>8.266997</td>\n",
       "      <td>0.248333</td>\n",
       "      <td>2.580542</td>\n",
       "      <td>31.833293</td>\n",
       "      <td>7292.518114</td>\n",
       "    </tr>\n",
       "    <tr>\n",
       "      <th>min</th>\n",
       "      <td>3.000000</td>\n",
       "      <td>0.000000</td>\n",
       "      <td>16.000000</td>\n",
       "      <td>2.000000</td>\n",
       "      <td>800.000000</td>\n",
       "      <td>0.0</td>\n",
       "      <td>0.0</td>\n",
       "      <td>0.000000</td>\n",
       "      <td>4.500000</td>\n",
       "      <td>0.000000</td>\n",
       "      <td>920.0</td>\n",
       "    </tr>\n",
       "    <tr>\n",
       "      <th>25%</th>\n",
       "      <td>58.000000</td>\n",
       "      <td>66.750000</td>\n",
       "      <td>64.000000</td>\n",
       "      <td>4.000000</td>\n",
       "      <td>5000.000000</td>\n",
       "      <td>13.0</td>\n",
       "      <td>5.0</td>\n",
       "      <td>0.000000</td>\n",
       "      <td>16.510000</td>\n",
       "      <td>41.000000</td>\n",
       "      <td>8999.0</td>\n",
       "    </tr>\n",
       "    <tr>\n",
       "      <th>50%</th>\n",
       "      <td>99.000000</td>\n",
       "      <td>132.500000</td>\n",
       "      <td>128.000000</td>\n",
       "      <td>5.000000</td>\n",
       "      <td>5000.000000</td>\n",
       "      <td>50.0</td>\n",
       "      <td>8.0</td>\n",
       "      <td>0.000000</td>\n",
       "      <td>16.710000</td>\n",
       "      <td>59.000000</td>\n",
       "      <td>12999.0</td>\n",
       "    </tr>\n",
       "    <tr>\n",
       "      <th>75%</th>\n",
       "      <td>143.250000</td>\n",
       "      <td>199.000000</td>\n",
       "      <td>128.000000</td>\n",
       "      <td>8.000000</td>\n",
       "      <td>5000.000000</td>\n",
       "      <td>50.0</td>\n",
       "      <td>16.0</td>\n",
       "      <td>0.000000</td>\n",
       "      <td>16.842500</td>\n",
       "      <td>80.000000</td>\n",
       "      <td>17999.0</td>\n",
       "    </tr>\n",
       "    <tr>\n",
       "      <th>max</th>\n",
       "      <td>186.000000</td>\n",
       "      <td>274.000000</td>\n",
       "      <td>256.000000</td>\n",
       "      <td>8.000000</td>\n",
       "      <td>7000.000000</td>\n",
       "      <td>200.0</td>\n",
       "      <td>60.0</td>\n",
       "      <td>1.000000</td>\n",
       "      <td>41.940000</td>\n",
       "      <td>122.000000</td>\n",
       "      <td>33367.0</td>\n",
       "    </tr>\n",
       "  </tbody>\n",
       "</table>\n",
       "</div>"
      ],
      "text/plain": [
       "            Model      Colour      Memory         RAM     Battery_  \\\n",
       "count  516.000000  516.000000  516.000000  516.000000   516.000000   \n",
       "mean    98.984496  134.546512  107.968992    5.319767  4898.207364   \n",
       "std     51.334878   78.976682   59.144968    1.964855   780.082852   \n",
       "min      3.000000    0.000000   16.000000    2.000000   800.000000   \n",
       "25%     58.000000   66.750000   64.000000    4.000000  5000.000000   \n",
       "50%     99.000000  132.500000  128.000000    5.000000  5000.000000   \n",
       "75%    143.250000  199.000000  128.000000    8.000000  5000.000000   \n",
       "max    186.000000  274.000000  256.000000    8.000000  7000.000000   \n",
       "\n",
       "       Rear Camera  Front Camera     AI Lens  Mobile Height  Processor_  \\\n",
       "count        516.0         516.0  516.000000     516.000000  516.000000   \n",
       "mean     45.651163     11.478682    0.065891      16.433760   61.339147   \n",
       "std      30.256868      8.266997    0.248333       2.580542   31.833293   \n",
       "min            0.0           0.0    0.000000       4.500000    0.000000   \n",
       "25%           13.0           5.0    0.000000      16.510000   41.000000   \n",
       "50%           50.0           8.0    0.000000      16.710000   59.000000   \n",
       "75%           50.0          16.0    0.000000      16.842500   80.000000   \n",
       "max          200.0          60.0    1.000000      41.940000  122.000000   \n",
       "\n",
       "              Prize  \n",
       "count         516.0  \n",
       "mean   14590.631783  \n",
       "std     7292.518114  \n",
       "min           920.0  \n",
       "25%          8999.0  \n",
       "50%         12999.0  \n",
       "75%         17999.0  \n",
       "max         33367.0  "
      ]
     },
     "execution_count": 41,
     "metadata": {},
     "output_type": "execute_result"
    }
   ],
   "source": [
    "# Analysing numerical features of the Columns\n",
    "df.describe()"
   ]
  },
  {
   "cell_type": "markdown",
   "id": "c3be340d",
   "metadata": {},
   "source": [
    "# Visual Representation of the Most demanding specification of the mobiles through Countplot"
   ]
  },
  {
   "cell_type": "code",
   "execution_count": 38,
   "id": "1a37452a",
   "metadata": {},
   "outputs": [
    {
     "data": {
      "image/png": "[encoded data removed]",
      "text/plain": [
       "<Figure size 1200x300 with 1 Axes>"
      ]
     },
     "metadata": {},
     "output_type": "display_data"
    }
   ],
   "source": [
    "# Countplot of RAM\n",
    "plt.figure(figsize=(12,3),dpi=100)\n",
    "sns.countplot(data=df,x='RAM')\n",
    "plt.title('Countplot of RAM')\n",
    "plt.show()\n",
    "\n",
    "# CONCLUSION -- 4GB RAM is most in demand followed by 8GB,then 6GB RAM"
   ]
  },
  {
   "cell_type": "code",
   "execution_count": 39,
   "id": "90e51c71",
   "metadata": {},
   "outputs": [
    {
     "data": {
      "image/png": "[encoded data removed]",
      "text/plain": [
       "<Figure size 1200x300 with 1 Axes>"
      ]
     },
     "metadata": {},
     "output_type": "display_data"
    }
   ],
   "source": [
    "# Countplot of Memory\n",
    "plt.figure(figsize=(12,3),dpi=100)\n",
    "sns.countplot(data=df,x='Memory')\n",
    "plt.title('Countplot of Memory')\n",
    "plt.show()"
   ]
  },
  {
   "cell_type": "code",
   "execution_count": 40,
   "id": "735a4065",
   "metadata": {},
   "outputs": [
    {
     "data": {
      "image/png": "[encoded data removed]",
      "text/plain": [
       "<Figure size 1200x300 with 1 Axes>"
      ]
     },
     "metadata": {},
     "output_type": "display_data"
    }
   ],
   "source": [
    "# Countplot of Front Camera\n",
    "plt.figure(figsize=(12,3),dpi=100)\n",
    "sns.countplot(data=df,x='Front Camera')\n",
    "plt.title('Countplot of Front Camera')\n",
    "plt.show()"
   ]
  },
  {
   "cell_type": "code",
   "execution_count": 129,
   "id": "b20bcfc6",
   "metadata": {},
   "outputs": [
    {
     "data": {
      "image/png": "[encoded data removed]",
      "text/plain": [
       "<Figure size 1200x300 with 1 Axes>"
      ]
     },
     "metadata": {},
     "output_type": "display_data"
    }
   ],
   "source": [
    "# Countplot of Rear Camera\n",
    "plt.figure(figsize=(12,3),dpi=100)\n",
    "sns.countplot(data=df,x='Rear Camera')\n",
    "plt.title('Countplot of Rear Camera')\n",
    "plt.show()"
   ]
  },
  {
   "cell_type": "markdown",
   "id": "881fb1ad",
   "metadata": {},
   "source": [
    "# Splitting the Data for Training and Testing"
   ]
  },
  {
   "cell_type": "code",
   "execution_count": 42,
   "id": "ce146bd5",
   "metadata": {},
   "outputs": [],
   "source": [
    "from sklearn.model_selection import train_test_split"
   ]
  },
  {
   "cell_type": "code",
   "execution_count": 43,
   "id": "be9beef4",
   "metadata": {},
   "outputs": [],
   "source": [
    "# Splitting the data into X (Represents Independent Features) and y (Represents Target feature,that is,'Prize')\n",
    "X = df.drop(['Prize','Model'],axis=1)\n",
    "y = df['Prize']"
   ]
  },
  {
   "cell_type": "code",
   "execution_count": 46,
   "id": "75af0801",
   "metadata": {},
   "outputs": [],
   "source": [
    "X_train,X_test,y_train,y_test = train_test_split(X,y,test_size=0.2,random_state=50)"
   ]
  },
  {
   "cell_type": "markdown",
   "id": "8c114dc1",
   "metadata": {},
   "source": [
    "# Price Prediction through RandomForestClassifier Model"
   ]
  },
  {
   "cell_type": "code",
   "execution_count": 50,
   "id": "6df299b9",
   "metadata": {},
   "outputs": [
    {
     "data": {
      "text/html": [
       "<style>#sk-container-id-1 {color: black;}#sk-container-id-1 pre{padding: 0;}#sk-container-id-1 div.sk-toggleable {background-color: white;}#sk-container-id-1 label.sk-toggleable__label {cursor: pointer;display: block;width: 100%;margin-bottom: 0;padding: 0.3em;box-sizing: border-box;text-align: center;}#sk-container-id-1 label.sk-toggleable__label-arrow:before {content: \"▸\";float: left;margin-right: 0.25em;color: #696969;}#sk-container-id-1 label.sk-toggleable__label-arrow:hover:before {color: black;}#sk-container-id-1 div.sk-estimator:hover label.sk-toggleable__label-arrow:before {color: black;}#sk-container-id-1 div.sk-toggleable__content {max-height: 0;max-width: 0;overflow: hidden;text-align: left;background-color: #f0f8ff;}#sk-container-id-1 div.sk-toggleable__content pre {margin: 0.2em;color: black;border-radius: 0.25em;background-color: #f0f8ff;}#sk-container-id-1 input.sk-toggleable__control:checked~div.sk-toggleable__content {max-height: 200px;max-width: 100%;overflow: auto;}#sk-container-id-1 input.sk-toggleable__control:checked~label.sk-toggleable__label-arrow:before {content: \"▾\";}#sk-container-id-1 div.sk-estimator input.sk-toggleable__control:checked~label.sk-toggleable__label {background-color: #d4ebff;}#sk-container-id-1 div.sk-label input.sk-toggleable__control:checked~label.sk-toggleable__label {background-color: #d4ebff;}#sk-container-id-1 input.sk-hidden--visually {border: 0;clip: rect(1px 1px 1px 1px);clip: rect(1px, 1px, 1px, 1px);height: 1px;margin: -1px;overflow: hidden;padding: 0;position: absolute;width: 1px;}#sk-container-id-1 div.sk-estimator {font-family: monospace;background-color: #f0f8ff;border: 1px dotted black;border-radius: 0.25em;box-sizing: border-box;margin-bottom: 0.5em;}#sk-container-id-1 div.sk-estimator:hover {background-color: #d4ebff;}#sk-container-id-1 div.sk-parallel-item::after {content: \"\";width: 100%;border-bottom: 1px solid gray;flex-grow: 1;}#sk-container-id-1 div.sk-label:hover label.sk-toggleable__label {background-color: #d4ebff;}#sk-container-id-1 div.sk-serial::before {content: \"\";position: absolute;border-left: 1px solid gray;box-sizing: border-box;top: 0;bottom: 0;left: 50%;z-index: 0;}#sk-container-id-1 div.sk-serial {display: flex;flex-direction: column;align-items: center;background-color: white;padding-right: 0.2em;padding-left: 0.2em;position: relative;}#sk-container-id-1 div.sk-item {position: relative;z-index: 1;}#sk-container-id-1 div.sk-parallel {display: flex;align-items: stretch;justify-content: center;background-color: white;position: relative;}#sk-container-id-1 div.sk-item::before, #sk-container-id-1 div.sk-parallel-item::before {content: \"\";position: absolute;border-left: 1px solid gray;box-sizing: border-box;top: 0;bottom: 0;left: 50%;z-index: -1;}#sk-container-id-1 div.sk-parallel-item {display: flex;flex-direction: column;z-index: 1;position: relative;background-color: white;}#sk-container-id-1 div.sk-parallel-item:first-child::after {align-self: flex-end;width: 50%;}#sk-container-id-1 div.sk-parallel-item:last-child::after {align-self: flex-start;width: 50%;}#sk-container-id-1 div.sk-parallel-item:only-child::after {width: 0;}#sk-container-id-1 div.sk-dashed-wrapped {border: 1px dashed gray;margin: 0 0.4em 0.5em 0.4em;box-sizing: border-box;padding-bottom: 0.4em;background-color: white;}#sk-container-id-1 div.sk-label label {font-family: monospace;font-weight: bold;display: inline-block;line-height: 1.2em;}#sk-container-id-1 div.sk-label-container {text-align: center;}#sk-container-id-1 div.sk-container {/* jupyter's `normalize.less` sets `[hidden] { display: none; }` but bootstrap.min.css set `[hidden] { display: none !important; }` so we also need the `!important` here to be able to override the default hidden behavior on the sphinx rendered scikit-learn.org. See: https://github.com/scikit-learn/scikit-learn/issues/21755 */display: inline-block !important;position: relative;}#sk-container-id-1 div.sk-text-repr-fallback {display: none;}</style><div id=\"sk-container-id-1\" class=\"sk-top-container\"><div class=\"sk-text-repr-fallback\"><pre>RandomForestClassifier()</pre><b>In a Jupyter environment, please rerun this cell to show the HTML representation or trust the notebook. <br />On GitHub, the HTML representation is unable to render, please try loading this page with nbviewer.org.</b></div><div class=\"sk-container\" hidden><div class=\"sk-item\"><div class=\"sk-estimator sk-toggleable\"><input class=\"sk-toggleable__control sk-hidden--visually\" id=\"sk-estimator-id-1\" type=\"checkbox\" checked><label for=\"sk-estimator-id-1\" class=\"sk-toggleable__label sk-toggleable__label-arrow\">RandomForestClassifier</label><div class=\"sk-toggleable__content\"><pre>RandomForestClassifier()</pre></div></div></div></div></div>"
      ],
      "text/plain": [
       "RandomForestClassifier()"
      ]
     },
     "execution_count": 50,
     "metadata": {},
     "output_type": "execute_result"
    }
   ],
   "source": [
    "from sklearn.ensemble import RandomForestClassifier\n",
    "clf = RandomForestClassifier()\n",
    "clf.fit(X_train,y_train)\n",
    "\n"
   ]
  },
  {
   "cell_type": "code",
   "execution_count": 52,
   "id": "6beef4ce",
   "metadata": {},
   "outputs": [],
   "source": [
    "# Checking the accuracy of the model\n",
    "clf_score = clf.score(X_test,y_test)"
   ]
  },
  {
   "cell_type": "code",
   "execution_count": 53,
   "id": "0177d7f3",
   "metadata": {},
   "outputs": [
    {
     "data": {
      "text/plain": [
       "0.625"
      ]
     },
     "execution_count": 53,
     "metadata": {},
     "output_type": "execute_result"
    }
   ],
   "source": [
    "clf_score"
   ]
  },
  {
   "cell_type": "code",
   "execution_count": 56,
   "id": "7d97b71b",
   "metadata": {},
   "outputs": [
    {
     "data": {
      "text/plain": [
       "array([20999., 30999.,  9499., 11499.,  8999., 21999.,  9499., 17999.,\n",
       "       10999.,  9999., 13999., 32999.,  5990., 14999., 23999., 10499.,\n",
       "       13999.,  8999., 23999., 30999., 16999.,  6299., 16999.,  8999.,\n",
       "       14999., 19999., 10999.,  2615., 17999., 23999.,  9699., 10499.,\n",
       "       23999., 12499.,  6794., 14999.,  7299., 16999.,  9999., 16499.,\n",
       "       13999., 10999., 16499., 19979.,  6999.,  7999., 29999.,  8999.,\n",
       "        9499., 14499., 23999.,  7749.,  9999.,  8499., 23999.,  9499.,\n",
       "         920.,  7299., 10699., 23999., 12999.,  7999.,  7280., 14499.,\n",
       "       20999., 22999., 14499.,  6299., 18999., 12999., 10999., 32999.,\n",
       "        7999., 13490.,  5999., 17999., 17999.,  7999., 18999., 12499.,\n",
       "       32999., 17999.,  8999., 17499.,  6299.,  9499., 15999.,  9999.,\n",
       "        9999.,  8749.,  8460., 16999.,  6799.,  5999., 17999., 13999.,\n",
       "        1299., 11999., 23999., 10999.,  7990., 16499., 21999.,  9999.])"
      ]
     },
     "execution_count": 56,
     "metadata": {},
     "output_type": "execute_result"
    }
   ],
   "source": [
    "# Making the Price Predictions\n",
    "clf_y_pred = clf.predict(X_test)\n",
    "clf_y_pred"
   ]
  },
  {
   "cell_type": "code",
   "execution_count": 57,
   "id": "28cda388",
   "metadata": {},
   "outputs": [],
   "source": [
    "# Evaluation of the model through different metrics\n",
    "from sklearn.metrics import accuracy_score,mean_squared_error,mean_absolute_error,r2_score"
   ]
  },
  {
   "cell_type": "code",
   "execution_count": 60,
   "id": "f859625b",
   "metadata": {},
   "outputs": [
    {
     "data": {
      "text/plain": [
       "1233.1057692307693"
      ]
     },
     "execution_count": 60,
     "metadata": {},
     "output_type": "execute_result"
    }
   ],
   "source": [
    "# Identifying the Mean Absolute Error\n",
    "clf_mae = mean_absolute_error(y_test,clf_y_pred)\n",
    "clf_mae"
   ]
  },
  {
   "cell_type": "code",
   "execution_count": 63,
   "id": "3149a3af",
   "metadata": {},
   "outputs": [
    {
     "data": {
      "text/plain": [
       "11164386.048076924"
      ]
     },
     "execution_count": 63,
     "metadata": {},
     "output_type": "execute_result"
    }
   ],
   "source": [
    "# Identifying the Mean Squared Error\n",
    "clf_mse = mean_squared_error(y_test,clf_y_pred)\n",
    "clf_mse"
   ]
  },
  {
   "cell_type": "code",
   "execution_count": 65,
   "id": "a3c415eb",
   "metadata": {},
   "outputs": [
    {
     "data": {
      "text/plain": [
       "0.8210650321690373"
      ]
     },
     "execution_count": 65,
     "metadata": {},
     "output_type": "execute_result"
    }
   ],
   "source": [
    "# Checking the r2 score of the model\n",
    "clf_r2 = r2_score(y_test,clf_y_pred)\n",
    "clf_r2"
   ]
  },
  {
   "cell_type": "markdown",
   "id": "97b332de",
   "metadata": {},
   "source": [
    "# Price Prediction through LogisticRegression Model"
   ]
  },
  {
   "cell_type": "code",
   "execution_count": 66,
   "id": "989ac4a6",
   "metadata": {},
   "outputs": [],
   "source": [
    "from sklearn.linear_model import LogisticRegression"
   ]
  },
  {
   "cell_type": "code",
   "execution_count": 67,
   "id": "6d60e2e8",
   "metadata": {},
   "outputs": [
    {
     "name": "stderr",
     "output_type": "stream",
     "text": [
      "C:\\Users\\birle\\anaconda3\\lib\\site-packages\\sklearn\\linear_model\\_logistic.py:460: ConvergenceWarning: lbfgs failed to converge (status=1):\n",
      "STOP: TOTAL NO. of ITERATIONS REACHED LIMIT.\n",
      "\n",
      "Increase the number of iterations (max_iter) or scale the data as shown in:\n",
      "    https://scikit-learn.org/stable/modules/preprocessing.html\n",
      "Please also refer to the documentation for alternative solver options:\n",
      "    https://scikit-learn.org/stable/modules/linear_model.html#logistic-regression\n",
      "  n_iter_i = _check_optimize_result(\n"
     ]
    },
    {
     "data": {
      "text/html": [
       "<style>#sk-container-id-2 {color: black;}#sk-container-id-2 pre{padding: 0;}#sk-container-id-2 div.sk-toggleable {background-color: white;}#sk-container-id-2 label.sk-toggleable__label {cursor: pointer;display: block;width: 100%;margin-bottom: 0;padding: 0.3em;box-sizing: border-box;text-align: center;}#sk-container-id-2 label.sk-toggleable__label-arrow:before {content: \"▸\";float: left;margin-right: 0.25em;color: #696969;}#sk-container-id-2 label.sk-toggleable__label-arrow:hover:before {color: black;}#sk-container-id-2 div.sk-estimator:hover label.sk-toggleable__label-arrow:before {color: black;}#sk-container-id-2 div.sk-toggleable__content {max-height: 0;max-width: 0;overflow: hidden;text-align: left;background-color: #f0f8ff;}#sk-container-id-2 div.sk-toggleable__content pre {margin: 0.2em;color: black;border-radius: 0.25em;background-color: #f0f8ff;}#sk-container-id-2 input.sk-toggleable__control:checked~div.sk-toggleable__content {max-height: 200px;max-width: 100%;overflow: auto;}#sk-container-id-2 input.sk-toggleable__control:checked~label.sk-toggleable__label-arrow:before {content: \"▾\";}#sk-container-id-2 div.sk-estimator input.sk-toggleable__control:checked~label.sk-toggleable__label {background-color: #d4ebff;}#sk-container-id-2 div.sk-label input.sk-toggleable__control:checked~label.sk-toggleable__label {background-color: #d4ebff;}#sk-container-id-2 input.sk-hidden--visually {border: 0;clip: rect(1px 1px 1px 1px);clip: rect(1px, 1px, 1px, 1px);height: 1px;margin: -1px;overflow: hidden;padding: 0;position: absolute;width: 1px;}#sk-container-id-2 div.sk-estimator {font-family: monospace;background-color: #f0f8ff;border: 1px dotted black;border-radius: 0.25em;box-sizing: border-box;margin-bottom: 0.5em;}#sk-container-id-2 div.sk-estimator:hover {background-color: #d4ebff;}#sk-container-id-2 div.sk-parallel-item::after {content: \"\";width: 100%;border-bottom: 1px solid gray;flex-grow: 1;}#sk-container-id-2 div.sk-label:hover label.sk-toggleable__label {background-color: #d4ebff;}#sk-container-id-2 div.sk-serial::before {content: \"\";position: absolute;border-left: 1px solid gray;box-sizing: border-box;top: 0;bottom: 0;left: 50%;z-index: 0;}#sk-container-id-2 div.sk-serial {display: flex;flex-direction: column;align-items: center;background-color: white;padding-right: 0.2em;padding-left: 0.2em;position: relative;}#sk-container-id-2 div.sk-item {position: relative;z-index: 1;}#sk-container-id-2 div.sk-parallel {display: flex;align-items: stretch;justify-content: center;background-color: white;position: relative;}#sk-container-id-2 div.sk-item::before, #sk-container-id-2 div.sk-parallel-item::before {content: \"\";position: absolute;border-left: 1px solid gray;box-sizing: border-box;top: 0;bottom: 0;left: 50%;z-index: -1;}#sk-container-id-2 div.sk-parallel-item {display: flex;flex-direction: column;z-index: 1;position: relative;background-color: white;}#sk-container-id-2 div.sk-parallel-item:first-child::after {align-self: flex-end;width: 50%;}#sk-container-id-2 div.sk-parallel-item:last-child::after {align-self: flex-start;width: 50%;}#sk-container-id-2 div.sk-parallel-item:only-child::after {width: 0;}#sk-container-id-2 div.sk-dashed-wrapped {border: 1px dashed gray;margin: 0 0.4em 0.5em 0.4em;box-sizing: border-box;padding-bottom: 0.4em;background-color: white;}#sk-container-id-2 div.sk-label label {font-family: monospace;font-weight: bold;display: inline-block;line-height: 1.2em;}#sk-container-id-2 div.sk-label-container {text-align: center;}#sk-container-id-2 div.sk-container {/* jupyter's `normalize.less` sets `[hidden] { display: none; }` but bootstrap.min.css set `[hidden] { display: none !important; }` so we also need the `!important` here to be able to override the default hidden behavior on the sphinx rendered scikit-learn.org. See: https://github.com/scikit-learn/scikit-learn/issues/21755 */display: inline-block !important;position: relative;}#sk-container-id-2 div.sk-text-repr-fallback {display: none;}</style><div id=\"sk-container-id-2\" class=\"sk-top-container\"><div class=\"sk-text-repr-fallback\"><pre>LogisticRegression()</pre><b>In a Jupyter environment, please rerun this cell to show the HTML representation or trust the notebook. <br />On GitHub, the HTML representation is unable to render, please try loading this page with nbviewer.org.</b></div><div class=\"sk-container\" hidden><div class=\"sk-item\"><div class=\"sk-estimator sk-toggleable\"><input class=\"sk-toggleable__control sk-hidden--visually\" id=\"sk-estimator-id-2\" type=\"checkbox\" checked><label for=\"sk-estimator-id-2\" class=\"sk-toggleable__label sk-toggleable__label-arrow\">LogisticRegression</label><div class=\"sk-toggleable__content\"><pre>LogisticRegression()</pre></div></div></div></div></div>"
      ],
      "text/plain": [
       "LogisticRegression()"
      ]
     },
     "execution_count": 67,
     "metadata": {},
     "output_type": "execute_result"
    }
   ],
   "source": [
    "lr = LogisticRegression()\n",
    "lr.fit(X_train,y_train)"
   ]
  },
  {
   "cell_type": "code",
   "execution_count": 68,
   "id": "b1f85974",
   "metadata": {},
   "outputs": [
    {
     "data": {
      "text/plain": [
       "0.08653846153846154"
      ]
     },
     "execution_count": 68,
     "metadata": {},
     "output_type": "execute_result"
    }
   ],
   "source": [
    "# Checking the Model Score\n",
    "lr_score = lr.score(X_test,y_test)\n",
    "lr_score"
   ]
  },
  {
   "cell_type": "code",
   "execution_count": 106,
   "id": "c523077d",
   "metadata": {},
   "outputs": [
    {
     "data": {
      "text/plain": [
       "array([16999., 14490., 12999., 11999., 11999., 16999.,  7299., 16999.,\n",
       "       11999.,  8999., 15999., 29999.,  6999., 11999., 17999.,  8999.,\n",
       "       16999., 11999., 23999., 14490., 15999.,  9999., 16999.,  7999.,\n",
       "       11999., 15999.,  6999.,  1299., 15999., 15999.,  8999., 16999.,\n",
       "       29999.,  8999.,  8999.,  8999.,  8999., 15999.,  9999., 16999.,\n",
       "       15999., 13999.,  8999., 15999.,  8999.,  8999., 29999.,  9999.,\n",
       "        9999., 16999., 23999.,  8999.,  9999.,  6999., 16499.,  9999.,\n",
       "        6999.,  7299., 13999., 23999., 23999.,  8999.,  6999., 16999.,\n",
       "       20999., 15999., 23999.,  9999., 15999., 15999., 11999., 29999.,\n",
       "        8999., 13999.,  9999., 16999., 29999.,  7999., 16999.,  9999.,\n",
       "       29999., 17999., 11999., 16999.,  8999.,  8999., 16999., 15999.,\n",
       "        9999.,  9999.,  7299., 16999.,  9999.,  8999., 29999., 15999.,\n",
       "        1299., 15999., 23999., 11999.,  8999., 15999., 16999.,  7999.])"
      ]
     },
     "execution_count": 106,
     "metadata": {},
     "output_type": "execute_result"
    }
   ],
   "source": [
    "# Making Price Predictions\n",
    "lr_pred_y = lr.predict(X_test)\n",
    "lr_pred_y"
   ]
  },
  {
   "cell_type": "code",
   "execution_count": 109,
   "id": "43d57331",
   "metadata": {},
   "outputs": [
    {
     "data": {
      "text/plain": [
       "3071.3076923076924"
      ]
     },
     "execution_count": 109,
     "metadata": {},
     "output_type": "execute_result"
    }
   ],
   "source": [
    "# Identiying Mean absolute Error\n",
    "lr_mae = mean_absolute_error(y_test,lr_pred_y)\n",
    "lr_mae"
   ]
  },
  {
   "cell_type": "code",
   "execution_count": 110,
   "id": "cb60935c",
   "metadata": {},
   "outputs": [
    {
     "data": {
      "text/plain": [
       "21405617.576923076"
      ]
     },
     "execution_count": 110,
     "metadata": {},
     "output_type": "execute_result"
    }
   ],
   "source": [
    "# Identifying Mean Squared Error\n",
    "lr_mse = mean_squared_error(y_test,lr_pred_y)\n",
    "lr_mse"
   ]
  },
  {
   "cell_type": "code",
   "execution_count": 113,
   "id": "4ae98119",
   "metadata": {},
   "outputs": [
    {
     "data": {
      "text/plain": [
       "0.6569257390388807"
      ]
     },
     "execution_count": 113,
     "metadata": {},
     "output_type": "execute_result"
    }
   ],
   "source": [
    "# r2 Score\n",
    "lr_r2 = r2_score(y_test,lr_pred_y)\n",
    "lr_r2"
   ]
  },
  {
   "cell_type": "markdown",
   "id": "92e2220c",
   "metadata": {},
   "source": [
    "# Price Prediction through K-Nearest Neighbor(KNN) Model"
   ]
  },
  {
   "cell_type": "code",
   "execution_count": 69,
   "id": "535a11b6",
   "metadata": {},
   "outputs": [],
   "source": [
    "from sklearn.neighbors import KNeighborsClassifier"
   ]
  },
  {
   "cell_type": "code",
   "execution_count": 71,
   "id": "e0d27178",
   "metadata": {},
   "outputs": [
    {
     "data": {
      "text/html": [
       "<style>#sk-container-id-3 {color: black;}#sk-container-id-3 pre{padding: 0;}#sk-container-id-3 div.sk-toggleable {background-color: white;}#sk-container-id-3 label.sk-toggleable__label {cursor: pointer;display: block;width: 100%;margin-bottom: 0;padding: 0.3em;box-sizing: border-box;text-align: center;}#sk-container-id-3 label.sk-toggleable__label-arrow:before {content: \"▸\";float: left;margin-right: 0.25em;color: #696969;}#sk-container-id-3 label.sk-toggleable__label-arrow:hover:before {color: black;}#sk-container-id-3 div.sk-estimator:hover label.sk-toggleable__label-arrow:before {color: black;}#sk-container-id-3 div.sk-toggleable__content {max-height: 0;max-width: 0;overflow: hidden;text-align: left;background-color: #f0f8ff;}#sk-container-id-3 div.sk-toggleable__content pre {margin: 0.2em;color: black;border-radius: 0.25em;background-color: #f0f8ff;}#sk-container-id-3 input.sk-toggleable__control:checked~div.sk-toggleable__content {max-height: 200px;max-width: 100%;overflow: auto;}#sk-container-id-3 input.sk-toggleable__control:checked~label.sk-toggleable__label-arrow:before {content: \"▾\";}#sk-container-id-3 div.sk-estimator input.sk-toggleable__control:checked~label.sk-toggleable__label {background-color: #d4ebff;}#sk-container-id-3 div.sk-label input.sk-toggleable__control:checked~label.sk-toggleable__label {background-color: #d4ebff;}#sk-container-id-3 input.sk-hidden--visually {border: 0;clip: rect(1px 1px 1px 1px);clip: rect(1px, 1px, 1px, 1px);height: 1px;margin: -1px;overflow: hidden;padding: 0;position: absolute;width: 1px;}#sk-container-id-3 div.sk-estimator {font-family: monospace;background-color: #f0f8ff;border: 1px dotted black;border-radius: 0.25em;box-sizing: border-box;margin-bottom: 0.5em;}#sk-container-id-3 div.sk-estimator:hover {background-color: #d4ebff;}#sk-container-id-3 div.sk-parallel-item::after {content: \"\";width: 100%;border-bottom: 1px solid gray;flex-grow: 1;}#sk-container-id-3 div.sk-label:hover label.sk-toggleable__label {background-color: #d4ebff;}#sk-container-id-3 div.sk-serial::before {content: \"\";position: absolute;border-left: 1px solid gray;box-sizing: border-box;top: 0;bottom: 0;left: 50%;z-index: 0;}#sk-container-id-3 div.sk-serial {display: flex;flex-direction: column;align-items: center;background-color: white;padding-right: 0.2em;padding-left: 0.2em;position: relative;}#sk-container-id-3 div.sk-item {position: relative;z-index: 1;}#sk-container-id-3 div.sk-parallel {display: flex;align-items: stretch;justify-content: center;background-color: white;position: relative;}#sk-container-id-3 div.sk-item::before, #sk-container-id-3 div.sk-parallel-item::before {content: \"\";position: absolute;border-left: 1px solid gray;box-sizing: border-box;top: 0;bottom: 0;left: 50%;z-index: -1;}#sk-container-id-3 div.sk-parallel-item {display: flex;flex-direction: column;z-index: 1;position: relative;background-color: white;}#sk-container-id-3 div.sk-parallel-item:first-child::after {align-self: flex-end;width: 50%;}#sk-container-id-3 div.sk-parallel-item:last-child::after {align-self: flex-start;width: 50%;}#sk-container-id-3 div.sk-parallel-item:only-child::after {width: 0;}#sk-container-id-3 div.sk-dashed-wrapped {border: 1px dashed gray;margin: 0 0.4em 0.5em 0.4em;box-sizing: border-box;padding-bottom: 0.4em;background-color: white;}#sk-container-id-3 div.sk-label label {font-family: monospace;font-weight: bold;display: inline-block;line-height: 1.2em;}#sk-container-id-3 div.sk-label-container {text-align: center;}#sk-container-id-3 div.sk-container {/* jupyter's `normalize.less` sets `[hidden] { display: none; }` but bootstrap.min.css set `[hidden] { display: none !important; }` so we also need the `!important` here to be able to override the default hidden behavior on the sphinx rendered scikit-learn.org. See: https://github.com/scikit-learn/scikit-learn/issues/21755 */display: inline-block !important;position: relative;}#sk-container-id-3 div.sk-text-repr-fallback {display: none;}</style><div id=\"sk-container-id-3\" class=\"sk-top-container\"><div class=\"sk-text-repr-fallback\"><pre>KNeighborsClassifier()</pre><b>In a Jupyter environment, please rerun this cell to show the HTML representation or trust the notebook. <br />On GitHub, the HTML representation is unable to render, please try loading this page with nbviewer.org.</b></div><div class=\"sk-container\" hidden><div class=\"sk-item\"><div class=\"sk-estimator sk-toggleable\"><input class=\"sk-toggleable__control sk-hidden--visually\" id=\"sk-estimator-id-3\" type=\"checkbox\" checked><label for=\"sk-estimator-id-3\" class=\"sk-toggleable__label sk-toggleable__label-arrow\">KNeighborsClassifier</label><div class=\"sk-toggleable__content\"><pre>KNeighborsClassifier()</pre></div></div></div></div></div>"
      ],
      "text/plain": [
       "KNeighborsClassifier()"
      ]
     },
     "execution_count": 71,
     "metadata": {},
     "output_type": "execute_result"
    }
   ],
   "source": [
    "knn = KNeighborsClassifier()\n",
    "knn.fit(X_train,y_train)"
   ]
  },
  {
   "cell_type": "code",
   "execution_count": 72,
   "id": "b29a2d65",
   "metadata": {},
   "outputs": [
    {
     "data": {
      "text/plain": [
       "0.08653846153846154"
      ]
     },
     "execution_count": 72,
     "metadata": {},
     "output_type": "execute_result"
    }
   ],
   "source": [
    "knn_score = knn.score(X_test,y_test)\n",
    "knn_score"
   ]
  },
  {
   "cell_type": "code",
   "execution_count": 115,
   "id": "88be9271",
   "metadata": {},
   "outputs": [
    {
     "data": {
      "text/plain": [
       "array([10699., 10548.,  8999.,  9999.,  6999., 11999.,  6799., 11999.,\n",
       "       12499., 12499.,  8999., 29999.,  6999., 14999., 23999.,  5649.,\n",
       "       15999.,  6999., 13489., 10548., 15999.,  1375., 12999.,  8499.,\n",
       "       12499., 15999.,  6299.,  2499., 12999., 23999.,  8499., 15499.,\n",
       "       29999., 12499.,  6794.,  7999.,  6999., 13999.,  9999., 15999.,\n",
       "        8999., 14490.,  7749., 13499.,  6299.,  7999., 21999.,  9499.,\n",
       "        6999., 16999., 16999., 12499.,  9999.,  6999., 17999.,  9499.,\n",
       "         920.,  8999., 14490., 15999., 15999.,  7993.,  5649., 11999.,\n",
       "       23999., 13999., 14499.,  6999., 12999.,  8999.,  9999., 29999.,\n",
       "        7999., 14490.,  5999., 15999., 29999.,  7749., 15999.,  9999.,\n",
       "       17999., 26999.,  9499., 12999.,  6299.,  6299., 11999.,  8999.,\n",
       "        9999.,  6199.,  6799., 15999.,  6299.,  7999., 29999.,  8999.,\n",
       "        1299., 13999., 24999., 11999.,  5649., 12999.,  8999.,  7749.])"
      ]
     },
     "execution_count": 115,
     "metadata": {},
     "output_type": "execute_result"
    }
   ],
   "source": [
    "knn_y_pred = knn.predict(X_test)\n",
    "knn_y_pred"
   ]
  },
  {
   "cell_type": "code",
   "execution_count": 116,
   "id": "656ece70",
   "metadata": {},
   "outputs": [
    {
     "data": {
      "text/plain": [
       "3367.2403846153848"
      ]
     },
     "execution_count": 116,
     "metadata": {},
     "output_type": "execute_result"
    }
   ],
   "source": [
    "knn_mae = mean_absolute_error(y_test,knn_y_pred)\n",
    "knn_mae"
   ]
  },
  {
   "cell_type": "code",
   "execution_count": 117,
   "id": "f0dc1831",
   "metadata": {},
   "outputs": [
    {
     "data": {
      "text/plain": [
       "27800659.951923076"
      ]
     },
     "execution_count": 117,
     "metadata": {},
     "output_type": "execute_result"
    }
   ],
   "source": [
    "knn_mse = mean_squared_error(y_test,knn_y_pred)\n",
    "knn_mse"
   ]
  },
  {
   "cell_type": "code",
   "execution_count": 119,
   "id": "084fc40b",
   "metadata": {},
   "outputs": [
    {
     "data": {
      "text/plain": [
       "0.5544304744788222"
      ]
     },
     "execution_count": 119,
     "metadata": {},
     "output_type": "execute_result"
    }
   ],
   "source": [
    "knn_r2 = r2_score(y_test,knn_y_pred)\n",
    "knn_r2"
   ]
  },
  {
   "cell_type": "markdown",
   "id": "9ca81e12",
   "metadata": {},
   "source": [
    "# Price Prediction through LinearRegression"
   ]
  },
  {
   "cell_type": "code",
   "execution_count": 73,
   "id": "f338d7ee",
   "metadata": {},
   "outputs": [],
   "source": [
    "from sklearn.linear_model import LinearRegression"
   ]
  },
  {
   "cell_type": "code",
   "execution_count": 74,
   "id": "91350ce0",
   "metadata": {},
   "outputs": [
    {
     "data": {
      "text/html": [
       "<style>#sk-container-id-4 {color: black;}#sk-container-id-4 pre{padding: 0;}#sk-container-id-4 div.sk-toggleable {background-color: white;}#sk-container-id-4 label.sk-toggleable__label {cursor: pointer;display: block;width: 100%;margin-bottom: 0;padding: 0.3em;box-sizing: border-box;text-align: center;}#sk-container-id-4 label.sk-toggleable__label-arrow:before {content: \"▸\";float: left;margin-right: 0.25em;color: #696969;}#sk-container-id-4 label.sk-toggleable__label-arrow:hover:before {color: black;}#sk-container-id-4 div.sk-estimator:hover label.sk-toggleable__label-arrow:before {color: black;}#sk-container-id-4 div.sk-toggleable__content {max-height: 0;max-width: 0;overflow: hidden;text-align: left;background-color: #f0f8ff;}#sk-container-id-4 div.sk-toggleable__content pre {margin: 0.2em;color: black;border-radius: 0.25em;background-color: #f0f8ff;}#sk-container-id-4 input.sk-toggleable__control:checked~div.sk-toggleable__content {max-height: 200px;max-width: 100%;overflow: auto;}#sk-container-id-4 input.sk-toggleable__control:checked~label.sk-toggleable__label-arrow:before {content: \"▾\";}#sk-container-id-4 div.sk-estimator input.sk-toggleable__control:checked~label.sk-toggleable__label {background-color: #d4ebff;}#sk-container-id-4 div.sk-label input.sk-toggleable__control:checked~label.sk-toggleable__label {background-color: #d4ebff;}#sk-container-id-4 input.sk-hidden--visually {border: 0;clip: rect(1px 1px 1px 1px);clip: rect(1px, 1px, 1px, 1px);height: 1px;margin: -1px;overflow: hidden;padding: 0;position: absolute;width: 1px;}#sk-container-id-4 div.sk-estimator {font-family: monospace;background-color: #f0f8ff;border: 1px dotted black;border-radius: 0.25em;box-sizing: border-box;margin-bottom: 0.5em;}#sk-container-id-4 div.sk-estimator:hover {background-color: #d4ebff;}#sk-container-id-4 div.sk-parallel-item::after {content: \"\";width: 100%;border-bottom: 1px solid gray;flex-grow: 1;}#sk-container-id-4 div.sk-label:hover label.sk-toggleable__label {background-color: #d4ebff;}#sk-container-id-4 div.sk-serial::before {content: \"\";position: absolute;border-left: 1px solid gray;box-sizing: border-box;top: 0;bottom: 0;left: 50%;z-index: 0;}#sk-container-id-4 div.sk-serial {display: flex;flex-direction: column;align-items: center;background-color: white;padding-right: 0.2em;padding-left: 0.2em;position: relative;}#sk-container-id-4 div.sk-item {position: relative;z-index: 1;}#sk-container-id-4 div.sk-parallel {display: flex;align-items: stretch;justify-content: center;background-color: white;position: relative;}#sk-container-id-4 div.sk-item::before, #sk-container-id-4 div.sk-parallel-item::before {content: \"\";position: absolute;border-left: 1px solid gray;box-sizing: border-box;top: 0;bottom: 0;left: 50%;z-index: -1;}#sk-container-id-4 div.sk-parallel-item {display: flex;flex-direction: column;z-index: 1;position: relative;background-color: white;}#sk-container-id-4 div.sk-parallel-item:first-child::after {align-self: flex-end;width: 50%;}#sk-container-id-4 div.sk-parallel-item:last-child::after {align-self: flex-start;width: 50%;}#sk-container-id-4 div.sk-parallel-item:only-child::after {width: 0;}#sk-container-id-4 div.sk-dashed-wrapped {border: 1px dashed gray;margin: 0 0.4em 0.5em 0.4em;box-sizing: border-box;padding-bottom: 0.4em;background-color: white;}#sk-container-id-4 div.sk-label label {font-family: monospace;font-weight: bold;display: inline-block;line-height: 1.2em;}#sk-container-id-4 div.sk-label-container {text-align: center;}#sk-container-id-4 div.sk-container {/* jupyter's `normalize.less` sets `[hidden] { display: none; }` but bootstrap.min.css set `[hidden] { display: none !important; }` so we also need the `!important` here to be able to override the default hidden behavior on the sphinx rendered scikit-learn.org. See: https://github.com/scikit-learn/scikit-learn/issues/21755 */display: inline-block !important;position: relative;}#sk-container-id-4 div.sk-text-repr-fallback {display: none;}</style><div id=\"sk-container-id-4\" class=\"sk-top-container\"><div class=\"sk-text-repr-fallback\"><pre>LinearRegression()</pre><b>In a Jupyter environment, please rerun this cell to show the HTML representation or trust the notebook. <br />On GitHub, the HTML representation is unable to render, please try loading this page with nbviewer.org.</b></div><div class=\"sk-container\" hidden><div class=\"sk-item\"><div class=\"sk-estimator sk-toggleable\"><input class=\"sk-toggleable__control sk-hidden--visually\" id=\"sk-estimator-id-4\" type=\"checkbox\" checked><label for=\"sk-estimator-id-4\" class=\"sk-toggleable__label sk-toggleable__label-arrow\">LinearRegression</label><div class=\"sk-toggleable__content\"><pre>LinearRegression()</pre></div></div></div></div></div>"
      ],
      "text/plain": [
       "LinearRegression()"
      ]
     },
     "execution_count": 74,
     "metadata": {},
     "output_type": "execute_result"
    }
   ],
   "source": [
    "lin_reg = LinearRegression()\n",
    "lin_reg.fit(X_train,y_train)"
   ]
  },
  {
   "cell_type": "code",
   "execution_count": 75,
   "id": "5c9cd62b",
   "metadata": {},
   "outputs": [
    {
     "data": {
      "text/plain": [
       "0.7022388670696789"
      ]
     },
     "execution_count": 75,
     "metadata": {},
     "output_type": "execute_result"
    }
   ],
   "source": [
    "lin_reg_score = lin_reg.score(X_test,y_test)\n",
    "lin_reg_score"
   ]
  },
  {
   "cell_type": "code",
   "execution_count": 76,
   "id": "e4332339",
   "metadata": {},
   "outputs": [
    {
     "data": {
      "text/plain": [
       "array([19854.59719425, 17444.16971914, 13180.44500886,  7669.73175887,\n",
       "        8896.07017694, 15545.48331138,  9322.82462324, 18781.92996701,\n",
       "       11971.04337364, 11435.02018736, 14878.16483157, 25539.41841005,\n",
       "        6790.61404234, 11531.70667596, 24229.52321716,  7184.75340219,\n",
       "       19177.65746944,  8896.07017694, 18704.88715955, 17444.22432196,\n",
       "       19553.50726986,  3346.75599953, 17569.13143017,  8880.2027921 ,\n",
       "       13409.34289143, 21193.98441754,  7175.19790823,  4554.56656715,\n",
       "       15951.42192671, 18795.83581654, 11559.07952287, 13691.21993183,\n",
       "       26565.63683992, 10531.21951919,  8665.84254025, 10098.93666586,\n",
       "        9188.82336398, 14963.9423897 , 11008.93299829, 27248.909954  ,\n",
       "       15033.6136029 , 15317.60671167, 13536.30954674, 18351.17696745,\n",
       "        7654.86096697,  6974.28541322, 27416.4558225 ,  8870.15587274,\n",
       "        8304.30279458, 15400.30655627, 26551.16709193, 10676.1709324 ,\n",
       "       11861.37816931,  9419.136933  , 19104.75940319, 11286.42291292,\n",
       "         -51.56836667,  6977.21451056, 14082.00745685, 17339.77223711,\n",
       "       17442.16477486,  6973.0295483 ,  6924.5443601 , 16080.86006723,\n",
       "       21611.65998311, 19518.6997723 , 15247.44627966,  7447.71363624,\n",
       "       19840.39170959, 13529.86859741, 11620.39337144, 26884.71148897,\n",
       "        6970.73622975, 15339.52941078,  6801.75301815, 18656.13362079,\n",
       "       22808.74358622, 11262.05827189, 16768.74882358, 10529.52683169,\n",
       "       21169.82729289, 23518.23686141,  8866.06066105, 15483.71403095,\n",
       "        6928.33449343,  8382.99895002, 17431.39501712, 13596.28369795,\n",
       "       11896.35802122,  9662.52409477,  9474.17818287, 15597.57600884,\n",
       "        5506.64118925,  6315.95621593, 22808.90739468, 14880.4035473 ,\n",
       "        5810.19766024, 15028.09871782, 18706.1976273 , 11791.55747699,\n",
       "        6105.24010374, 17050.4136858 , 15475.63281321, 11439.27920752])"
      ]
     },
     "execution_count": 76,
     "metadata": {},
     "output_type": "execute_result"
    }
   ],
   "source": [
    "lin_reg_y_pred = lin_reg.predict(X_test)\n",
    "lin_reg_y_pred"
   ]
  },
  {
   "cell_type": "code",
   "execution_count": 78,
   "id": "da824ee4",
   "metadata": {},
   "outputs": [
    {
     "data": {
      "text/plain": [
       "2929.739706826701"
      ]
     },
     "execution_count": 78,
     "metadata": {},
     "output_type": "execute_result"
    }
   ],
   "source": [
    "lin_reg_mae = mean_absolute_error(y_test,lin_reg_y_pred)\n",
    "lin_reg_mae"
   ]
  },
  {
   "cell_type": "code",
   "execution_count": 79,
   "id": "81293cf0",
   "metadata": {},
   "outputs": [
    {
     "data": {
      "text/plain": [
       "18578371.116859015"
      ]
     },
     "execution_count": 79,
     "metadata": {},
     "output_type": "execute_result"
    }
   ],
   "source": [
    "lin_reg_mse = mean_squared_error(y_test,lin_reg_y_pred)\n",
    "lin_reg_mse"
   ]
  },
  {
   "cell_type": "code",
   "execution_count": 80,
   "id": "01648454",
   "metadata": {},
   "outputs": [
    {
     "data": {
      "text/plain": [
       "0.7022388670696789"
      ]
     },
     "execution_count": 80,
     "metadata": {},
     "output_type": "execute_result"
    }
   ],
   "source": [
    "lin_reg_r2 = r2_score(y_test,lin_reg_y_pred)\n",
    "lin_reg_r2"
   ]
  },
  {
   "cell_type": "markdown",
   "id": "e990fb38",
   "metadata": {},
   "source": [
    "# Price Prediction through GradientBoostingRegressor Model"
   ]
  },
  {
   "cell_type": "code",
   "execution_count": 84,
   "id": "fdcbd109",
   "metadata": {},
   "outputs": [],
   "source": [
    "from sklearn.ensemble import GradientBoostingRegressor\n",
    "from sklearn.model_selection import GridSearchCV"
   ]
  },
  {
   "cell_type": "code",
   "execution_count": 96,
   "id": "01332fa3",
   "metadata": {},
   "outputs": [
    {
     "data": {
      "text/plain": [
       "({'max_depth': 4, 'n_estimators': 250}, 0.9017406174944738)"
      ]
     },
     "execution_count": 96,
     "metadata": {},
     "output_type": "execute_result"
    }
   ],
   "source": [
    "LR = {'n_estimators':[100,150,200,250],'max_depth':[1,2,3,4]}\n",
    "tuning = GridSearchCV(estimator=GradientBoostingRegressor(),param_grid=LR,scoring='r2')\n",
    "tuning.fit(X_train,y_train)\n",
    "tuning.best_params_,tuning.best_score_"
   ]
  },
  {
   "cell_type": "code",
   "execution_count": 97,
   "id": "1d8b99d2",
   "metadata": {},
   "outputs": [
    {
     "data": {
      "text/html": [
       "<style>#sk-container-id-5 {color: black;}#sk-container-id-5 pre{padding: 0;}#sk-container-id-5 div.sk-toggleable {background-color: white;}#sk-container-id-5 label.sk-toggleable__label {cursor: pointer;display: block;width: 100%;margin-bottom: 0;padding: 0.3em;box-sizing: border-box;text-align: center;}#sk-container-id-5 label.sk-toggleable__label-arrow:before {content: \"▸\";float: left;margin-right: 0.25em;color: #696969;}#sk-container-id-5 label.sk-toggleable__label-arrow:hover:before {color: black;}#sk-container-id-5 div.sk-estimator:hover label.sk-toggleable__label-arrow:before {color: black;}#sk-container-id-5 div.sk-toggleable__content {max-height: 0;max-width: 0;overflow: hidden;text-align: left;background-color: #f0f8ff;}#sk-container-id-5 div.sk-toggleable__content pre {margin: 0.2em;color: black;border-radius: 0.25em;background-color: #f0f8ff;}#sk-container-id-5 input.sk-toggleable__control:checked~div.sk-toggleable__content {max-height: 200px;max-width: 100%;overflow: auto;}#sk-container-id-5 input.sk-toggleable__control:checked~label.sk-toggleable__label-arrow:before {content: \"▾\";}#sk-container-id-5 div.sk-estimator input.sk-toggleable__control:checked~label.sk-toggleable__label {background-color: #d4ebff;}#sk-container-id-5 div.sk-label input.sk-toggleable__control:checked~label.sk-toggleable__label {background-color: #d4ebff;}#sk-container-id-5 input.sk-hidden--visually {border: 0;clip: rect(1px 1px 1px 1px);clip: rect(1px, 1px, 1px, 1px);height: 1px;margin: -1px;overflow: hidden;padding: 0;position: absolute;width: 1px;}#sk-container-id-5 div.sk-estimator {font-family: monospace;background-color: #f0f8ff;border: 1px dotted black;border-radius: 0.25em;box-sizing: border-box;margin-bottom: 0.5em;}#sk-container-id-5 div.sk-estimator:hover {background-color: #d4ebff;}#sk-container-id-5 div.sk-parallel-item::after {content: \"\";width: 100%;border-bottom: 1px solid gray;flex-grow: 1;}#sk-container-id-5 div.sk-label:hover label.sk-toggleable__label {background-color: #d4ebff;}#sk-container-id-5 div.sk-serial::before {content: \"\";position: absolute;border-left: 1px solid gray;box-sizing: border-box;top: 0;bottom: 0;left: 50%;z-index: 0;}#sk-container-id-5 div.sk-serial {display: flex;flex-direction: column;align-items: center;background-color: white;padding-right: 0.2em;padding-left: 0.2em;position: relative;}#sk-container-id-5 div.sk-item {position: relative;z-index: 1;}#sk-container-id-5 div.sk-parallel {display: flex;align-items: stretch;justify-content: center;background-color: white;position: relative;}#sk-container-id-5 div.sk-item::before, #sk-container-id-5 div.sk-parallel-item::before {content: \"\";position: absolute;border-left: 1px solid gray;box-sizing: border-box;top: 0;bottom: 0;left: 50%;z-index: -1;}#sk-container-id-5 div.sk-parallel-item {display: flex;flex-direction: column;z-index: 1;position: relative;background-color: white;}#sk-container-id-5 div.sk-parallel-item:first-child::after {align-self: flex-end;width: 50%;}#sk-container-id-5 div.sk-parallel-item:last-child::after {align-self: flex-start;width: 50%;}#sk-container-id-5 div.sk-parallel-item:only-child::after {width: 0;}#sk-container-id-5 div.sk-dashed-wrapped {border: 1px dashed gray;margin: 0 0.4em 0.5em 0.4em;box-sizing: border-box;padding-bottom: 0.4em;background-color: white;}#sk-container-id-5 div.sk-label label {font-family: monospace;font-weight: bold;display: inline-block;line-height: 1.2em;}#sk-container-id-5 div.sk-label-container {text-align: center;}#sk-container-id-5 div.sk-container {/* jupyter's `normalize.less` sets `[hidden] { display: none; }` but bootstrap.min.css set `[hidden] { display: none !important; }` so we also need the `!important` here to be able to override the default hidden behavior on the sphinx rendered scikit-learn.org. See: https://github.com/scikit-learn/scikit-learn/issues/21755 */display: inline-block !important;position: relative;}#sk-container-id-5 div.sk-text-repr-fallback {display: none;}</style><div id=\"sk-container-id-5\" class=\"sk-top-container\"><div class=\"sk-text-repr-fallback\"><pre>GradientBoostingRegressor(max_depth=4, n_estimators=250)</pre><b>In a Jupyter environment, please rerun this cell to show the HTML representation or trust the notebook. <br />On GitHub, the HTML representation is unable to render, please try loading this page with nbviewer.org.</b></div><div class=\"sk-container\" hidden><div class=\"sk-item\"><div class=\"sk-estimator sk-toggleable\"><input class=\"sk-toggleable__control sk-hidden--visually\" id=\"sk-estimator-id-5\" type=\"checkbox\" checked><label for=\"sk-estimator-id-5\" class=\"sk-toggleable__label sk-toggleable__label-arrow\">GradientBoostingRegressor</label><div class=\"sk-toggleable__content\"><pre>GradientBoostingRegressor(max_depth=4, n_estimators=250)</pre></div></div></div></div></div>"
      ],
      "text/plain": [
       "GradientBoostingRegressor(max_depth=4, n_estimators=250)"
      ]
     },
     "execution_count": 97,
     "metadata": {},
     "output_type": "execute_result"
    }
   ],
   "source": [
    "gbr = GradientBoostingRegressor(n_estimators=250,max_depth=4)\n",
    "gbr.fit(X_train,y_train)"
   ]
  },
  {
   "cell_type": "code",
   "execution_count": 98,
   "id": "7e783c53",
   "metadata": {},
   "outputs": [
    {
     "data": {
      "text/plain": [
       "array([17524.25279409, 30373.74552877, 10162.79284902, 10982.794048  ,\n",
       "        9093.76546327, 21667.29555864,  8378.93798541, 17388.00567512,\n",
       "       10142.36797067,  9484.32848716, 14425.30438991, 29203.7815418 ,\n",
       "        6782.17275506, 14043.13988302, 24161.24098906,  9836.02985643,\n",
       "       13589.98581948,  9093.76546327, 23588.4005626 , 30847.30850605,\n",
       "       16060.18945946,  6049.07160535, 16774.62716177,  9546.46934015,\n",
       "       12215.95043087, 19251.7717036 , 10595.98181378,  1769.58216795,\n",
       "       17457.10890942, 23894.76123838,  9903.98353041, 10457.51340127,\n",
       "       25251.64103845, 11421.57717333,  8331.23917404, 12332.50499694,\n",
       "        9506.18692821, 13761.56367862,  9747.55177562, 16839.16671618,\n",
       "       13639.09290839, 10683.87547144, 13433.89896659, 17092.90462791,\n",
       "        7067.22721386,  8281.59082695, 30268.25686185,  9703.50123528,\n",
       "        8109.97823714, 15784.37459838, 24494.60551478,  7999.69593717,\n",
       "       10215.78511993,  8167.15163099, 23669.44378206,  9862.75629039,\n",
       "         987.61851623,  7206.80175096, 11129.43883924, 24108.67464977,\n",
       "       14597.2765827 ,  8572.74632802,  8188.71695152, 15417.97450069,\n",
       "       17855.58388261, 23319.4367735 , 15357.07241411,  6751.04930498,\n",
       "       19227.31986106, 13144.60882647, 11171.45209743, 33014.15736181,\n",
       "        8433.38998682, 13587.44809735,  5930.79407403, 14581.84756666,\n",
       "       32549.71262483,  8221.87383564, 18178.17966401, 11743.93854085,\n",
       "       27743.569606  , 20519.89838162,  9491.01029767, 16392.12840529,\n",
       "        6647.23764467,  9506.31346193, 16238.01594522, 11925.21366354,\n",
       "       10026.15721382,  8676.2611258 ,  8060.60785504, 16492.11401827,\n",
       "        8650.36900737,  5755.98618323, 33023.27560211, 14345.32352758,\n",
       "        1732.32757726, 13678.22429228, 23921.29003758, 10549.53336191,\n",
       "        7486.88763362, 14808.84191053, 16345.84731001,  9662.16526351])"
      ]
     },
     "execution_count": 98,
     "metadata": {},
     "output_type": "execute_result"
    }
   ],
   "source": [
    "gbr_y_pred = gbr.predict(X_test)\n",
    "gbr_y_pred"
   ]
  },
  {
   "cell_type": "code",
   "execution_count": 121,
   "id": "3b563e28",
   "metadata": {},
   "outputs": [
    {
     "data": {
      "text/plain": [
       "0.885779345459736"
      ]
     },
     "execution_count": 121,
     "metadata": {},
     "output_type": "execute_result"
    }
   ],
   "source": [
    "gbr_score = gbr.score(X_test,y_test)\n",
    "gbr_score"
   ]
  },
  {
   "cell_type": "code",
   "execution_count": 122,
   "id": "47b0a7fb",
   "metadata": {},
   "outputs": [
    {
     "data": {
      "text/plain": [
       "1258.0519593496588"
      ]
     },
     "execution_count": 122,
     "metadata": {},
     "output_type": "execute_result"
    }
   ],
   "source": [
    "gbr_mae = mean_absolute_error(y_test,gbr_y_pred)\n",
    "gbr_mae"
   ]
  },
  {
   "cell_type": "code",
   "execution_count": 123,
   "id": "9cd3ea8c",
   "metadata": {},
   "outputs": [
    {
     "data": {
      "text/plain": [
       "7126630.962128111"
      ]
     },
     "execution_count": 123,
     "metadata": {},
     "output_type": "execute_result"
    }
   ],
   "source": [
    "gbr_mse = mean_squared_error(y_test,gbr_y_pred)\n",
    "gbr_mse"
   ]
  },
  {
   "cell_type": "code",
   "execution_count": 124,
   "id": "6e4d6dbd",
   "metadata": {},
   "outputs": [
    {
     "data": {
      "text/plain": [
       "0.885779345459736"
      ]
     },
     "execution_count": 124,
     "metadata": {},
     "output_type": "execute_result"
    }
   ],
   "source": [
    "gbr_r2 = r2_score(y_test,gbr_y_pred)\n",
    "gbr_r2"
   ]
  },
  {
   "cell_type": "markdown",
   "id": "5aaafaa0",
   "metadata": {},
   "source": [
    "# Price Prediction through GradientBoostingClassifier"
   ]
  },
  {
   "cell_type": "code",
   "execution_count": 133,
   "id": "9d506e5d",
   "metadata": {},
   "outputs": [],
   "source": [
    "from sklearn.ensemble import GradientBoostingClassifier"
   ]
  },
  {
   "cell_type": "code",
   "execution_count": 136,
   "id": "7c3e03c9",
   "metadata": {},
   "outputs": [
    {
     "data": {
      "text/html": [
       "<style>#sk-container-id-7 {color: black;}#sk-container-id-7 pre{padding: 0;}#sk-container-id-7 div.sk-toggleable {background-color: white;}#sk-container-id-7 label.sk-toggleable__label {cursor: pointer;display: block;width: 100%;margin-bottom: 0;padding: 0.3em;box-sizing: border-box;text-align: center;}#sk-container-id-7 label.sk-toggleable__label-arrow:before {content: \"▸\";float: left;margin-right: 0.25em;color: #696969;}#sk-container-id-7 label.sk-toggleable__label-arrow:hover:before {color: black;}#sk-container-id-7 div.sk-estimator:hover label.sk-toggleable__label-arrow:before {color: black;}#sk-container-id-7 div.sk-toggleable__content {max-height: 0;max-width: 0;overflow: hidden;text-align: left;background-color: #f0f8ff;}#sk-container-id-7 div.sk-toggleable__content pre {margin: 0.2em;color: black;border-radius: 0.25em;background-color: #f0f8ff;}#sk-container-id-7 input.sk-toggleable__control:checked~div.sk-toggleable__content {max-height: 200px;max-width: 100%;overflow: auto;}#sk-container-id-7 input.sk-toggleable__control:checked~label.sk-toggleable__label-arrow:before {content: \"▾\";}#sk-container-id-7 div.sk-estimator input.sk-toggleable__control:checked~label.sk-toggleable__label {background-color: #d4ebff;}#sk-container-id-7 div.sk-label input.sk-toggleable__control:checked~label.sk-toggleable__label {background-color: #d4ebff;}#sk-container-id-7 input.sk-hidden--visually {border: 0;clip: rect(1px 1px 1px 1px);clip: rect(1px, 1px, 1px, 1px);height: 1px;margin: -1px;overflow: hidden;padding: 0;position: absolute;width: 1px;}#sk-container-id-7 div.sk-estimator {font-family: monospace;background-color: #f0f8ff;border: 1px dotted black;border-radius: 0.25em;box-sizing: border-box;margin-bottom: 0.5em;}#sk-container-id-7 div.sk-estimator:hover {background-color: #d4ebff;}#sk-container-id-7 div.sk-parallel-item::after {content: \"\";width: 100%;border-bottom: 1px solid gray;flex-grow: 1;}#sk-container-id-7 div.sk-label:hover label.sk-toggleable__label {background-color: #d4ebff;}#sk-container-id-7 div.sk-serial::before {content: \"\";position: absolute;border-left: 1px solid gray;box-sizing: border-box;top: 0;bottom: 0;left: 50%;z-index: 0;}#sk-container-id-7 div.sk-serial {display: flex;flex-direction: column;align-items: center;background-color: white;padding-right: 0.2em;padding-left: 0.2em;position: relative;}#sk-container-id-7 div.sk-item {position: relative;z-index: 1;}#sk-container-id-7 div.sk-parallel {display: flex;align-items: stretch;justify-content: center;background-color: white;position: relative;}#sk-container-id-7 div.sk-item::before, #sk-container-id-7 div.sk-parallel-item::before {content: \"\";position: absolute;border-left: 1px solid gray;box-sizing: border-box;top: 0;bottom: 0;left: 50%;z-index: -1;}#sk-container-id-7 div.sk-parallel-item {display: flex;flex-direction: column;z-index: 1;position: relative;background-color: white;}#sk-container-id-7 div.sk-parallel-item:first-child::after {align-self: flex-end;width: 50%;}#sk-container-id-7 div.sk-parallel-item:last-child::after {align-self: flex-start;width: 50%;}#sk-container-id-7 div.sk-parallel-item:only-child::after {width: 0;}#sk-container-id-7 div.sk-dashed-wrapped {border: 1px dashed gray;margin: 0 0.4em 0.5em 0.4em;box-sizing: border-box;padding-bottom: 0.4em;background-color: white;}#sk-container-id-7 div.sk-label label {font-family: monospace;font-weight: bold;display: inline-block;line-height: 1.2em;}#sk-container-id-7 div.sk-label-container {text-align: center;}#sk-container-id-7 div.sk-container {/* jupyter's `normalize.less` sets `[hidden] { display: none; }` but bootstrap.min.css set `[hidden] { display: none !important; }` so we also need the `!important` here to be able to override the default hidden behavior on the sphinx rendered scikit-learn.org. See: https://github.com/scikit-learn/scikit-learn/issues/21755 */display: inline-block !important;position: relative;}#sk-container-id-7 div.sk-text-repr-fallback {display: none;}</style><div id=\"sk-container-id-7\" class=\"sk-top-container\"><div class=\"sk-text-repr-fallback\"><pre>GradientBoostingClassifier(max_depth=4, n_estimators=250)</pre><b>In a Jupyter environment, please rerun this cell to show the HTML representation or trust the notebook. <br />On GitHub, the HTML representation is unable to render, please try loading this page with nbviewer.org.</b></div><div class=\"sk-container\" hidden><div class=\"sk-item\"><div class=\"sk-estimator sk-toggleable\"><input class=\"sk-toggleable__control sk-hidden--visually\" id=\"sk-estimator-id-7\" type=\"checkbox\" checked><label for=\"sk-estimator-id-7\" class=\"sk-toggleable__label sk-toggleable__label-arrow\">GradientBoostingClassifier</label><div class=\"sk-toggleable__content\"><pre>GradientBoostingClassifier(max_depth=4, n_estimators=250)</pre></div></div></div></div></div>"
      ],
      "text/plain": [
       "GradientBoostingClassifier(max_depth=4, n_estimators=250)"
      ]
     },
     "execution_count": 136,
     "metadata": {},
     "output_type": "execute_result"
    }
   ],
   "source": [
    "\n",
    "gbc = GradientBoostingClassifier(n_estimators = 250,max_depth=4)\n",
    "gbc.fit(X_train,y_train)"
   ]
  },
  {
   "cell_type": "code",
   "execution_count": 137,
   "id": "f8615ced",
   "metadata": {},
   "outputs": [
    {
     "data": {
      "text/plain": [
       "array([20999., 30999.,  9499., 11499.,  8999., 21999.,  7299., 17999.,\n",
       "       10999.,  9999., 13999., 32299.,  6999., 14999., 23999., 10499.,\n",
       "       13999.,  8999., 23999., 30999., 16999.,  3549., 16999.,  8999.,\n",
       "       12999., 19999., 10999.,  2615., 17999., 23999., 11762., 10499.,\n",
       "       23999., 12499.,  6794., 12599.,  9999., 13999.,  9999., 16499.,\n",
       "       13999., 10999., 11999., 12999.,  6999.,  7999., 29999.,  8999.,\n",
       "        9499., 16999., 23999.,  7749.,  9999.,  8499., 23999.,  9499.,\n",
       "         920.,  7299., 13999., 23999., 12999.,  7999.,  8999., 15999.,\n",
       "       20999., 22999., 14499.,  6299., 18999., 12999., 10999., 32999.,\n",
       "        7999., 13490.,  5999., 13999., 30999.,  7999., 18999., 12499.,\n",
       "        8990., 18999.,  8999., 16999.,  6299.,  9499., 15999.,  9999.,\n",
       "       10699.,  9999.,  7245., 16999.,  3549.,  5999., 30999., 13999.,\n",
       "        1299., 11999., 23999., 12599.,  7990., 16499., 16999.,  9999.])"
      ]
     },
     "execution_count": 137,
     "metadata": {},
     "output_type": "execute_result"
    }
   ],
   "source": [
    "# Making Price Prediction\n",
    "gbc_pred_y = gbc.predict(X_test)\n",
    "gbc_pred_y"
   ]
  },
  {
   "cell_type": "code",
   "execution_count": 138,
   "id": "4bd22cd9",
   "metadata": {},
   "outputs": [
    {
     "data": {
      "text/plain": [
       "0.5576923076923077"
      ]
     },
     "execution_count": 138,
     "metadata": {},
     "output_type": "execute_result"
    }
   ],
   "source": [
    "# Checking accuracy of the model\n",
    "gbc_acc = accuracy_score(y_test,gbc_pred_y)\n",
    "gbc_acc"
   ]
  },
  {
   "cell_type": "code",
   "execution_count": 139,
   "id": "508ccbad",
   "metadata": {},
   "outputs": [
    {
     "data": {
      "text/plain": [
       "974.9038461538462"
      ]
     },
     "execution_count": 139,
     "metadata": {},
     "output_type": "execute_result"
    }
   ],
   "source": [
    "gbc_mae = mean_absolute_error(y_test,gbc_pred_y)\n",
    "gbc_mae"
   ]
  },
  {
   "cell_type": "code",
   "execution_count": 141,
   "id": "a374e384",
   "metadata": {},
   "outputs": [
    {
     "data": {
      "text/plain": [
       "5241187.807692308"
      ]
     },
     "execution_count": 141,
     "metadata": {},
     "output_type": "execute_result"
    }
   ],
   "source": [
    "gbc_mse = mean_squared_error(y_test,gbc_pred_y)\n",
    "gbc_mse"
   ]
  },
  {
   "cell_type": "code",
   "execution_count": 142,
   "id": "e3423cb7",
   "metadata": {},
   "outputs": [
    {
     "data": {
      "text/plain": [
       "0.9159979090899495"
      ]
     },
     "execution_count": 142,
     "metadata": {},
     "output_type": "execute_result"
    }
   ],
   "source": [
    "gbc_r2 = r2_score(y_test,gbc_pred_y)\n",
    "gbc_r2"
   ]
  },
  {
   "cell_type": "markdown",
   "id": "c1bc94a5",
   "metadata": {},
   "source": [
    "# Final Analysis of all the Models through a DataFrame"
   ]
  },
  {
   "cell_type": "code",
   "execution_count": 147,
   "id": "55c7941f",
   "metadata": {},
   "outputs": [
    {
     "name": "stdout",
     "output_type": "stream",
     "text": [
      "                        Model     Score          MAE  r2 score\n",
      "0                RandomForest  0.625000  1233.105769  0.821065\n",
      "1                         KNN  0.086538  3367.240385  0.554430\n",
      "2          LogisticRegression  0.086538  3071.307692  0.656926\n",
      "3            LinearRegression  0.702239  2929.739707  0.702239\n",
      "4   GradientBoostingRegressor  0.885779  1258.051959  0.885779\n",
      "5  GradientBoostingClassifier  0.557692   974.903846  0.915998\n"
     ]
    }
   ],
   "source": [
    "compare_models = pd.DataFrame({\n",
    "    'Model': ['RandomForest','KNN','LogisticRegression','LinearRegression','GradientBoostingRegressor','GradientBoostingClassifier'],\n",
    "    'Score': [clf_score,knn_score,lr_score,lin_reg_score,gbr_score,gbc_acc],\n",
    "    'MAE':   [clf_mae,knn_mae,lr_mae,lin_reg_mae,gbr_mae,gbc_mae],\n",
    "    'r2 score': [clf_r2,knn_r2,lr_r2,lin_reg_r2,gbr_r2,gbc_r2],\n",
    "})\n",
    "\n",
    "print(compare_models)"
   ]
  },
  {
   "cell_type": "code",
   "execution_count": null,
   "id": "adcd3c36",
   "metadata": {},
   "outputs": [],
   "source": [
    "# Thus, it is Clear that GradientBoostingRegressor Model is the Most accurate Model based on different Evaluation metrics"
   ]
  },
  {
   "cell_type": "markdown",
   "id": "534ac011",
   "metadata": {},
   "source": [
    "# Final Price Prediction through GradientBoostingRegressor Model"
   ]
  },
  {
   "cell_type": "code",
   "execution_count": 125,
   "id": "d68b54d0",
   "metadata": {},
   "outputs": [],
   "source": [
    "from joblib import dump,load"
   ]
  },
  {
   "cell_type": "code",
   "execution_count": 128,
   "id": "7b9638ee",
   "metadata": {},
   "outputs": [],
   "source": [
    "dump(gbr,'price of the mobile')\n",
    "mobile_price = load('price of the mobile')\n"
   ]
  },
  {
   "cell_type": "code",
   "execution_count": 131,
   "id": "500b2497",
   "metadata": {},
   "outputs": [
    {
     "name": "stderr",
     "output_type": "stream",
     "text": [
      "C:\\Users\\birle\\anaconda3\\lib\\site-packages\\sklearn\\base.py:465: UserWarning: X does not have valid feature names, but GradientBoostingRegressor was fitted with feature names\n",
      "  warnings.warn(\n"
     ]
    },
    {
     "data": {
      "text/plain": [
       "array([14150.41623128])"
      ]
     },
     "execution_count": 131,
     "metadata": {},
     "output_type": "execute_result"
    }
   ],
   "source": [
    "# Predicting the Price of the mobile with most demanding specifications\n",
    "most_demanding_specs = [[4,128,16,50,1,60,135,16.43,5000]]\n",
    "mobile_price.predict(most_demanding_specs)"
   ]
  },
  {
   "cell_type": "code",
   "execution_count": 132,
   "id": "35cfeecd",
   "metadata": {},
   "outputs": [
    {
     "data": {
      "text/plain": [
       "14590.631782945737"
      ]
     },
     "execution_count": 132,
     "metadata": {},
     "output_type": "execute_result"
    }
   ],
   "source": [
    "df['Prize'].mean()"
   ]
  },
  {
   "cell_type": "markdown",
   "id": "ab125e32",
   "metadata": {},
   "source": [
    "# CONCLUSION -- The predicted Price of the Mobile with the most demanding features such as 4GB RAM ,128GB Memory, 16 Megapixel front camera, 50 Megapixel rear camera is Rs 14150 which is quite near to the mean price given in the dataset,that is, Rs 14590"
   ]
  }
 ],
 "metadata": {
  "kernelspec": {
   "display_name": "Python 3 (ipykernel)",
   "language": "python",
   "name": "python3"
  },
  "language_info": {
   "codemirror_mode": {
    "name": "ipython",
    "version": 3
   },
   "file_extension": ".py",
   "mimetype": "text/x-python",
   "name": "python",
   "nbconvert_exporter": "python",
   "pygments_lexer": "ipython3",
   "version": "3.10.9"
  }
 },
 "nbformat": 4,
 "nbformat_minor": 5
}
